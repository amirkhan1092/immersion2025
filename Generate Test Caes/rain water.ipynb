{
 "cells": [
  {
   "cell_type": "code",
   "execution_count": 4,
   "metadata": {},
   "outputs": [
    {
     "name": "stdout",
     "output_type": "stream",
     "text": [
      "1 9\n",
      "2 65\n",
      "3 385\n",
      "4 2009\n",
      "5 9161\n",
      "6 35177\n",
      "7 108089\n",
      "8 248793\n",
      "9 389497\n"
     ]
    }
   ],
   "source": [
    "def is_valid_move(used, start, end, skip):\n",
    "    return start != end and not used[end] and (skip[start][end] == 0 or used[skip[start][end]])\n",
    "\n",
    "def dfs(used, skip, current, remaining):\n",
    "    if remaining == 0:\n",
    "        return 1\n",
    "    used[current] = True\n",
    "    total_patterns = 0\n",
    "    for next_key in range(1, 10):\n",
    "        if is_valid_move(used, current, next_key, skip):\n",
    "            total_patterns += dfs(used, skip, next_key, remaining - 1)\n",
    "    used[current] = False\n",
    "    return total_patterns\n",
    "\n",
    "def number_of_patterns(N):\n",
    "    skip = [[0] * 10 for _ in range(10)]\n",
    "    skip[1][3] = skip[3][1] = 2\n",
    "    skip[1][7] = skip[7][1] = 4\n",
    "    skip[3][9] = skip[9][3] = 6\n",
    "    skip[7][9] = skip[9][7] = 8\n",
    "    skip[1][9] = skip[9][1] = skip[2][8] = skip[8][2] = skip[3][7] = skip[7][3] = skip[4][6] = skip[6][4] = 5\n",
    "    \n",
    "    used = [False] * 10\n",
    "    total_patterns = 0\n",
    "    \n",
    "    for length in range(1, N + 1):\n",
    "        total_patterns += dfs(used, skip, 1, length - 1) * 4\n",
    "        total_patterns += dfs(used, skip, 2, length - 1) * 4\n",
    "        total_patterns += dfs(used, skip, 5, length - 1)\n",
    "    \n",
    "    return total_patterns\n",
    "\n",
    "# Example usage:\n",
    "for N in range(1, 10):\n",
    "    print(N, number_of_patterns(N))  # Output: 320\n"
   ]
  }
 ],
 "metadata": {
  "kernelspec": {
   "display_name": "Python 3",
   "language": "python",
   "name": "python3"
  },
  "language_info": {
   "codemirror_mode": {
    "name": "ipython",
    "version": 3
   },
   "file_extension": ".py",
   "mimetype": "text/x-python",
   "name": "python",
   "nbconvert_exporter": "python",
   "pygments_lexer": "ipython3",
   "version": "3.12.1"
  }
 },
 "nbformat": 4,
 "nbformat_minor": 2
}
