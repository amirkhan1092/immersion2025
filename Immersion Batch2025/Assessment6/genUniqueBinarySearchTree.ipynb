{
 "cells": [
  {
   "cell_type": "code",
   "execution_count": 2,
   "metadata": {},
   "outputs": [
    {
     "name": "stdout",
     "output_type": "stream",
     "text": [
      "1 2 3 4\n",
      "1 2 4 3\n",
      "1 3 2 4\n",
      "1 4 2 3\n",
      "1 4 3 2\n",
      "2 1 3 4\n",
      "2 1 4 3\n",
      "3 1 2 4\n",
      "3 2 1 4\n",
      "4 1 2 3\n",
      "4 1 3 2\n",
      "4 2 1 3\n",
      "4 3 1 2\n",
      "4 3 2 1\n",
      "1\n"
     ]
    }
   ],
   "source": [
    "class TreeNode: \n",
    "    def __init__(self, x): \n",
    "        self.val = x \n",
    "        self.left = None \n",
    "        self.right = None \n",
    " \n",
    "def generate_trees(start, end): \n",
    "    if start > end: \n",
    "        return [None] \n",
    "     \n",
    "    all_trees = [] \n",
    "    for i in range(start, end + 1): \n",
    "        # Generate all left and right subtrees \n",
    "        left_trees = generate_trees(start, i - 1) \n",
    "        right_trees = generate_trees(i + 1, end) \n",
    "         \n",
    "        # Combine each left and right subtree with the current root \n",
    "        for l in left_trees: \n",
    "            for r in right_trees: \n",
    "                current_tree = TreeNode(i) \n",
    "                current_tree.left = l \n",
    "                current_tree.right = r \n",
    "                all_trees.append(current_tree) \n",
    "     \n",
    "    return all_trees \n",
    " \n",
    "def preorder_traversal(root): \n",
    "    if root is None: \n",
    "        return [] \n",
    "    return [root.val] + preorder_traversal(root.left) + preorder_traversal(root.right) \n",
    " \n",
    "def unique_bst_preorder(n): \n",
    "    if n == 0: \n",
    "        return [] \n",
    "     \n",
    "    all_trees = generate_trees(1, n) \n",
    "    all_preorders = [preorder_traversal(tree) for tree in all_trees] \n",
    "     \n",
    "    for preorder in all_preorders: \n",
    "        print(\" \".join(map(str, preorder))) \n",
    " \n",
    "# Example usage \n",
    "n1 = 4 \n",
    "unique_bst_preorder(n1)  # Output: preorder traversals of all unique BSTs for n = 3 \n",
    " \n",
    "n2 = 1 \n",
    "unique_bst_preorder(n2)  # Output: preorder traversal of the unique BST for n = 1 \n",
    " "
   ]
  }
 ],
 "metadata": {
  "kernelspec": {
   "display_name": "Python 3",
   "language": "python",
   "name": "python3"
  },
  "language_info": {
   "codemirror_mode": {
    "name": "ipython",
    "version": 3
   },
   "file_extension": ".py",
   "mimetype": "text/x-python",
   "name": "python",
   "nbconvert_exporter": "python",
   "pygments_lexer": "ipython3",
   "version": "3.12.1"
  }
 },
 "nbformat": 4,
 "nbformat_minor": 2
}
