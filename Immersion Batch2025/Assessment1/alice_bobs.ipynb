def solve_case(n, m, k, fountains):
    first_col_obstruction = n + 1
    first_row_obstruction = m + 1
    
    # Find the minimum row and column indices for obstructions
    for r, c in fountains:
        if c == 1 and r < first_col_obstruction:
            first_col_obstruction = r
        if r == 1 and c < first_row_obstruction:
            first_row_obstruction = c
    
    # Calculate the maximum size of Alice's plot without any fountains
    alpha = (first_col_obstruction - 1) * (first_row_obstruction - 1)
    
    # Calculate ai for each fountain
    a = []
    for r, c in fountains:
        if c == 1:
            ai = (first_row_obstruction - 1) * (m - c + 1) - alpha
        elif r == 1:
            ai = (first_col_obstruction - 1) * (n - r + 1) - alpha
        else:
            ai = 0
        a.append(ai)
    
    return alpha, a

def main():
    import sys
    input = sys.stdin.read
    data = input().split()
    
    index = 0
    t = int(data[index])
    index += 1
    
    results = []
    
    for _ in range(t):
        n = int(data[index])
        m = int(data[index + 1])
        k = int(data[index + 2])
        index += 3
        
        fountains = []
        for _ in range(k):
            r = int(data[index])
            c = int(data[index + 1])
            fountains.append((r, c))
            index += 2
        
        alpha, a = solve_case(n, m, k, fountains)
        results.append((alpha, a))
    
    for alpha, a in results:
        print(alpha)
        print(' '.join(map(str, a)))

