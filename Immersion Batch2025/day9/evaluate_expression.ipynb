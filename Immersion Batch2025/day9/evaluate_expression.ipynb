{
 "cells": [
  {
   "cell_type": "code",
   "execution_count": 14,
   "metadata": {},
   "outputs": [
    {
     "ename": "TypeError",
     "evalue": "unsupported operand type(s) for +: 'NoneType' and 'float'",
     "output_type": "error",
     "traceback": [
      "\u001b[0;31m---------------------------------------------------------------------------\u001b[0m",
      "\u001b[0;31mTypeError\u001b[0m                                 Traceback (most recent call last)",
      "Cell \u001b[0;32mIn[14], line 49\u001b[0m\n\u001b[1;32m     46\u001b[0m values \u001b[38;5;241m=\u001b[39m data[\u001b[38;5;241m1\u001b[39m]\u001b[38;5;241m.\u001b[39msplit()\n\u001b[1;32m     48\u001b[0m root \u001b[38;5;241m=\u001b[39m build_tree(values)\n\u001b[0;32m---> 49\u001b[0m result \u001b[38;5;241m=\u001b[39m \u001b[43mevaluate_tree\u001b[49m\u001b[43m(\u001b[49m\u001b[43mroot\u001b[49m\u001b[43m)\u001b[49m\n\u001b[1;32m     50\u001b[0m \u001b[38;5;28mprint\u001b[39m(result)\n",
      "Cell \u001b[0;32mIn[14], line 30\u001b[0m, in \u001b[0;36mevaluate_tree\u001b[0;34m(node)\u001b[0m\n\u001b[1;32m     27\u001b[0m right_value \u001b[38;5;241m=\u001b[39m evaluate_tree(node\u001b[38;5;241m.\u001b[39mright)\n\u001b[1;32m     29\u001b[0m \u001b[38;5;28;01mif\u001b[39;00m node\u001b[38;5;241m.\u001b[39mvalue \u001b[38;5;241m==\u001b[39m \u001b[38;5;124m'\u001b[39m\u001b[38;5;124m+\u001b[39m\u001b[38;5;124m'\u001b[39m:\n\u001b[0;32m---> 30\u001b[0m     \u001b[38;5;28;01mreturn\u001b[39;00m \u001b[43mleft_value\u001b[49m\u001b[43m \u001b[49m\u001b[38;5;241;43m+\u001b[39;49m\u001b[43m \u001b[49m\u001b[43mright_value\u001b[49m\n\u001b[1;32m     31\u001b[0m \u001b[38;5;28;01melif\u001b[39;00m node\u001b[38;5;241m.\u001b[39mvalue \u001b[38;5;241m==\u001b[39m \u001b[38;5;124m'\u001b[39m\u001b[38;5;124m-\u001b[39m\u001b[38;5;124m'\u001b[39m:\n\u001b[1;32m     32\u001b[0m     \u001b[38;5;28;01mreturn\u001b[39;00m left_value \u001b[38;5;241m-\u001b[39m right_value\n",
      "\u001b[0;31mTypeError\u001b[0m: unsupported operand type(s) for +: 'NoneType' and 'float'"
     ]
    }
   ],
   "source": [
    "class TreeNode:\n",
    "    def __init__(self, value):\n",
    "        self.value = value\n",
    "        self.left = None\n",
    "        self.right = None\n",
    "\n",
    "def build_tree(values):\n",
    "    if not values or values[0] == -1:\n",
    "        return None\n",
    "    \n",
    "    nodes = [None if val == -1 else TreeNode(val) for val in values]\n",
    "    kids = nodes[::-1]\n",
    "    root = kids.pop()\n",
    "    \n",
    "    for node in nodes:\n",
    "        if node:\n",
    "            if kids: node.left = kids.pop()\n",
    "            if kids: node.right = kids.pop()\n",
    "    \n",
    "    return root\n",
    "\n",
    "def evaluate_tree(node):\n",
    "    if not node.left and not node.right:\n",
    "        return float(node.value)\n",
    "    \n",
    "    left_value = evaluate_tree(node.left)\n",
    "    right_value = evaluate_tree(node.right)\n",
    "    \n",
    "    if node.value == '+':\n",
    "        return left_value + right_value\n",
    "    elif node.value == '-':\n",
    "        return left_value - right_value\n",
    "    elif node.value == '*':\n",
    "        return left_value * right_value\n",
    "    elif node.value == '/':\n",
    "        return left_value / right_value\n",
    "\n",
    "if 1:\n",
    "    data = '''\n",
    "\n",
    "5 \n",
    "+ 3 - -1 -1 4 1\n",
    "'''.strip().split('\\n')\n",
    "    \n",
    "    n = int(data[0])\n",
    "    values = data[1].split()\n",
    "    \n",
    "    root = build_tree(values)\n",
    "    result = evaluate_tree(root)\n",
    "    print(result)\n",
    "\n",
    "\n"
   ]
  }
 ],
 "metadata": {
  "kernelspec": {
   "display_name": "Python 3",
   "language": "python",
   "name": "python3"
  },
  "language_info": {
   "codemirror_mode": {
    "name": "ipython",
    "version": 3
   },
   "file_extension": ".py",
   "mimetype": "text/x-python",
   "name": "python",
   "nbconvert_exporter": "python",
   "pygments_lexer": "ipython3",
   "version": "3.12.1"
  }
 },
 "nbformat": 4,
 "nbformat_minor": 2
}
