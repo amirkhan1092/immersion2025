{
 "cells": [
  {
   "cell_type": "code",
   "execution_count": 3,
   "metadata": {},
   "outputs": [
    {
     "name": "stdout",
     "output_type": "stream",
     "text": [
      "YES\n",
      "YES\n",
      "YES\n",
      "YES\n"
     ]
    }
   ],
   "source": [
    "from itertools import combinations\n",
    "for case in range(int(input())):\n",
    "  input()\n",
    "  inversions = sum(x[0] > x[1] for x in combinations(map(int, input().split()), 2))\n",
    "  print('YES' if inversions % 2 == 0 else 'NO')"
   ]
  },
  {
   "cell_type": "code",
   "execution_count": 20,
   "metadata": {},
   "outputs": [
    {
     "name": "stdout",
     "output_type": "stream",
     "text": [
      "NO\n"
     ]
    }
   ],
   "source": [
    "data = '''\n",
    "1\n",
    "6\n",
    "17 4 9 13 11 7\n",
    "'''.strip().split('\\n')\n",
    "\n",
    "i = 0\n",
    "for case in range(int(data[i])):\n",
    "    i = i+1\n",
    "    data[i]\n",
    "    i += 1\n",
    "    inversions = sum(x[0] > x[1] for x in combinations(map(int, data[i].split()), 2))\n",
    "    print('YES' if inversions % 2 == 0 else 'NO')\n",
    "\n",
    "\n"
   ]
  }
 ],
 "metadata": {
  "kernelspec": {
   "display_name": "Python 3",
   "language": "python",
   "name": "python3"
  },
  "language_info": {
   "codemirror_mode": {
    "name": "ipython",
    "version": 3
   },
   "file_extension": ".py",
   "mimetype": "text/x-python",
   "name": "python",
   "nbconvert_exporter": "python",
   "pygments_lexer": "ipython3",
   "version": "3.12.1"
  }
 },
 "nbformat": 4,
 "nbformat_minor": 2
}
