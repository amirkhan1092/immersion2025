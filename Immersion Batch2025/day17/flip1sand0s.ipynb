{
 "cells": [
  {
   "cell_type": "code",
   "execution_count": null,
   "metadata": {},
   "outputs": [],
   "source": [
    "'''\n",
    "10 3\n",
    "0 0 0 1 1 0 1 0 1 1\n",
    "'''"
   ]
  },
  {
   "cell_type": "code",
   "execution_count": 5,
   "metadata": {},
   "outputs": [
    {
     "name": "stdout",
     "output_type": "stream",
     "text": [
      "5\n"
     ]
    }
   ],
   "source": [
    "def longest_consecutive_ones(arr, n, k):\n",
    "    left = 0\n",
    "    max_length = 0\n",
    "    zero_count = 0\n",
    "    \n",
    "    for right in range(n):\n",
    "        if arr[right] == 0:\n",
    "            zero_count += 1\n",
    "        \n",
    "        while zero_count > k:\n",
    "            if arr[left] == 0:\n",
    "                zero_count -= 1\n",
    "            left += 1\n",
    "        \n",
    "        max_length = max(max_length, right - left + 1)\n",
    "    \n",
    "    return max_length\n",
    "\n",
    "# Sample Input 1\n",
    "# n, k = 11, 2\n",
    "# arr = [1, 1, 1, 0, 0, 0, 1, 1, 1, 1, 0]\n",
    "# print(longest_consecutive_ones(arr, n, k))  # Output: 6\n",
    "\n",
    "data = '''\n",
    "\n",
    "\n",
    "7 5\n",
    "0 0 0 0 0 0 0\n",
    "\n",
    "\n",
    "\n",
    "'''.strip().split('\\n')\n",
    "\n",
    "# Sample Input 2\n",
    "n, k = map(int, data[0].split())\n",
    "arr = list(map(int, data[1].split()))\n",
    "print(longest_consecutive_ones(arr, n, k))  # Output: 7\n",
    "\n",
    "\n"
   ]
  }
 ],
 "metadata": {
  "kernelspec": {
   "display_name": "Python 3",
   "language": "python",
   "name": "python3"
  },
  "language_info": {
   "codemirror_mode": {
    "name": "ipython",
    "version": 3
   },
   "file_extension": ".py",
   "mimetype": "text/x-python",
   "name": "python",
   "nbconvert_exporter": "python",
   "pygments_lexer": "ipython3",
   "version": "3.12.1"
  }
 },
 "nbformat": 4,
 "nbformat_minor": 2
}
