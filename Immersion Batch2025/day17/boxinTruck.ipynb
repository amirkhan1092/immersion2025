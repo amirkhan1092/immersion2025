{
 "cells": [
  {
   "cell_type": "code",
   "execution_count": 11,
   "metadata": {},
   "outputs": [
    {
     "name": "stdout",
     "output_type": "stream",
     "text": [
      "46\n"
     ]
    }
   ],
   "source": [
    "def maximum_units(boxTypes, truckSize):\n",
    "    # Sort boxTypes based on the number of units per box in descending order\n",
    "    boxTypes.sort(key=lambda x: x[1], reverse=True)\n",
    "    \n",
    "    max_units = 0\n",
    "    for numberOfBoxes, numberOfUnitsPerBox in boxTypes:\n",
    "        if truckSize <= 0:\n",
    "            break\n",
    "        # Take as many boxes as possible, but not more than the truck can carry\n",
    "        boxes_to_take = min(truckSize, numberOfBoxes)\n",
    "        max_units += boxes_to_take * numberOfUnitsPerBox\n",
    "        truckSize -= boxes_to_take\n",
    "        \n",
    "    return max_units\n",
    "\n",
    "# Sample Input\n",
    "\n",
    "data = '''\n",
    "5 8\n",
    "1 7\n",
    "6 6\n",
    "9 1\n",
    "5 1\n",
    "9 3\n",
    "\n",
    "\n",
    "\n",
    "'''.strip().split('\\n')\n",
    "\n",
    "N, truckSize = map(int, data[0].split())\n",
    "\n",
    "boxTypes = [list(map(int, data[i].split())) for i in range(1, N+1)]\n",
    "# print(boxTypes)\n",
    "# Sample Output\n",
    "print(maximum_units(boxTypes, truckSize))  # Output: 91\n"
   ]
  }
 ],
 "metadata": {
  "kernelspec": {
   "display_name": "Python 3",
   "language": "python",
   "name": "python3"
  },
  "language_info": {
   "codemirror_mode": {
    "name": "ipython",
    "version": 3
   },
   "file_extension": ".py",
   "mimetype": "text/x-python",
   "name": "python",
   "nbconvert_exporter": "python",
   "pygments_lexer": "ipython3",
   "version": "3.12.1"
  }
 },
 "nbformat": 4,
 "nbformat_minor": 2
}
