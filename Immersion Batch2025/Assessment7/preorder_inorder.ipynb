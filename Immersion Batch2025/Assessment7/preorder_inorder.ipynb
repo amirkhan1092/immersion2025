{
 "cells": [
  {
   "cell_type": "code",
   "execution_count": 8,
   "metadata": {},
   "outputs": [
    {
     "name": "stdout",
     "output_type": "stream",
     "text": [
      "7\n",
      "10 1\n",
      "4 3 2\n"
     ]
    }
   ],
   "source": [
    "class TreeNode:\n",
    "    def __init__(self, x):\n",
    "        self.val = x\n",
    "        self.left = None\n",
    "        self.right = None\n",
    "\n",
    "def build_tree(preorder, inorder):\n",
    "    if not preorder or not inorder:\n",
    "        return None\n",
    "\n",
    "    root_val = preorder.pop(0)\n",
    "    root = TreeNode(root_val)\n",
    "    inorder_index = inorder.index(root_val)\n",
    "\n",
    "    root.left = build_tree(preorder, inorder[:inorder_index])\n",
    "    root.right = build_tree(preorder, inorder[inorder_index + 1:])\n",
    "\n",
    "    return root\n",
    "\n",
    "def level_order_traversal(root):\n",
    "    if not root:\n",
    "        return []\n",
    "\n",
    "    queue = [root]\n",
    "    result = []\n",
    "\n",
    "    while queue:\n",
    "        level_size = len(queue)\n",
    "        current_level = []\n",
    "\n",
    "        for _ in range(level_size):\n",
    "            node = queue.pop(0)\n",
    "            current_level.append(node.val)\n",
    "\n",
    "            if node.left:\n",
    "                queue.append(node.left)\n",
    "            if node.right:\n",
    "                queue.append(node.right)\n",
    "\n",
    "        result.append(current_level)\n",
    "\n",
    "    return result\n",
    "\n",
    "def print_level_order(levels):\n",
    "    for level in levels:\n",
    "        print(\" \".join(map(str, level)))\n",
    "\n",
    "if 1:\n",
    "    data = '''\n",
    "6\n",
    "7 10 4 3 1 2\n",
    "4 10 3 7 2 1\n",
    "\n",
    "'''.strip().split('\\n')\n",
    "    \n",
    "    N = int(data[0])\n",
    "    preorder = list(map(int, data[1].split()))\n",
    "    inorder = list(map(int, data[2].split()))\n",
    "\n",
    "    root = build_tree(preorder, inorder)\n",
    "    levels = level_order_traversal(root)\n",
    "    print_level_order(levels)\n",
    "\n",
    "\n"
   ]
  }
 ],
 "metadata": {
  "kernelspec": {
   "display_name": "Python 3",
   "language": "python",
   "name": "python3"
  },
  "language_info": {
   "codemirror_mode": {
    "name": "ipython",
    "version": 3
   },
   "file_extension": ".py",
   "mimetype": "text/x-python",
   "name": "python",
   "nbconvert_exporter": "python",
   "pygments_lexer": "ipython3",
   "version": "3.12.1"
  }
 },
 "nbformat": 4,
 "nbformat_minor": 2
}
