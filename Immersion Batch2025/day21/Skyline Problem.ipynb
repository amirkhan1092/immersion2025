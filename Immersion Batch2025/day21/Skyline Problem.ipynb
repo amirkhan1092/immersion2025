{
 "cells": [
  {
   "cell_type": "code",
   "execution_count": 8,
   "metadata": {},
   "outputs": [
    {
     "name": "stdout",
     "output_type": "stream",
     "text": [
      "(2, 10) (3, 15) (8, 12) (13, 0)\n"
     ]
    }
   ],
   "source": [
    "# Skyline Problem\n",
    "from heapq import heappush, heappop\n",
    "\n",
    "def getSkyline(buildings):\n",
    "    events = []\n",
    "    for left, right, height in buildings:\n",
    "        events.append((left, -height, right))\n",
    "        events.append((right, 0, 0))\n",
    "\n",
    "    events.sort()\n",
    "\n",
    "    res = [(0, 0)]\n",
    "    live = [(0, float('inf'))]\n",
    "\n",
    "    for x, h, r in events:\n",
    "        while live[0][1] <= x:\n",
    "            heappop(live)\n",
    "        if h:\n",
    "            heappush(live, (h, r))\n",
    "        if res[-1][1] != -live[0][0]:\n",
    "            res.append((x, -live[0][0]))\n",
    "\n",
    "    return res[1:]\n",
    "\n",
    "# Input\n",
    "data = '''\n",
    "3\n",
    "2 11 10\n",
    "3 8 15\n",
    "5 13 12\n",
    "\n",
    "'''.strip().split('\\n')\n",
    "\n",
    "n = int(data[0].strip())\n",
    "buildings = []\n",
    "for _ in range(1, n+1):\n",
    "    left, right, height = map(int, data[_].strip().split())\n",
    "    buildings.append((left, right, height))\n",
    "\n",
    "# Output\n",
    "skyline = getSkyline(buildings)\n",
    "print(*skyline)\n"
   ]
  },
  {
   "cell_type": "code",
   "execution_count": null,
   "metadata": {},
   "outputs": [],
   "source": []
  }
 ],
 "metadata": {
  "kernelspec": {
   "display_name": "Python 3",
   "language": "python",
   "name": "python3"
  },
  "language_info": {
   "codemirror_mode": {
    "name": "ipython",
    "version": 3
   },
   "file_extension": ".py",
   "mimetype": "text/x-python",
   "name": "python",
   "nbconvert_exporter": "python",
   "pygments_lexer": "ipython3",
   "version": "3.12.1"
  }
 },
 "nbformat": 4,
 "nbformat_minor": 2
}
