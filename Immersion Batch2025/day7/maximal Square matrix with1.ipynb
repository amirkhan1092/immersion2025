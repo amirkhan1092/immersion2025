{
 "cells": [
  {
   "cell_type": "code",
   "execution_count": 18,
   "metadata": {},
   "outputs": [
    {
     "name": "stdout",
     "output_type": "stream",
     "text": [
      "[['0', '1', '1', '1', '1', '1', '1'], ['1', '1', '1', '1', '1', '1', '1'], ['1', '1', '1', '1', '1', '1', '1'], ['1', '1', '1', '1', '1', '1', '1'], ['1', '1', '1', '1', '1', '1', '1'], ['1', '1', '1', '1', '1', '1', '1']]\n",
      "36\n"
     ]
    }
   ],
   "source": [
    "class Solution:\n",
    "    def maximalSquare(self, M):\n",
    "        def is_valid_sqaure(row, col, side):\n",
    "            return all(all(M[i][j] == '1' for j in range(col, col+side)) for i in range(row, row+side))\n",
    "        m, n = len(M), len(M[0])\n",
    "        for side_len in range(min(m,n), 0, -1):\n",
    "            for row in range(m - side_len + 1):\n",
    "                for col in range(n - side_len + 1):\n",
    "                    if is_valid_sqaure(row, col, side_len):\n",
    "                        return side_len**2\n",
    "        return 0\n",
    "obj = Solution()\n",
    "data = '''\n",
    "6 7  \n",
    "0 1 1 1 1 1 1\n",
    "1 1 1 1 1 1 1\n",
    "1 1 1 1 1 1 1\n",
    "1 1 1 1 1 1 1\n",
    "1 1 1 1 1 1 1\n",
    "1 1 1 1 1 1 1\n",
    "'''.strip().split('\\n')\n",
    "# print(data)\n",
    "n, m = map(int, data[0].split())\n",
    "matrix = [data[_].split() for _ in range(1, n+1)]\n",
    "print(matrix)\n",
    "print(obj.maximalSquare(matrix))"
   ]
  }
 ],
 "metadata": {
  "kernelspec": {
   "display_name": "Python 3",
   "language": "python",
   "name": "python3"
  },
  "language_info": {
   "codemirror_mode": {
    "name": "ipython",
    "version": 3
   },
   "file_extension": ".py",
   "mimetype": "text/x-python",
   "name": "python",
   "nbconvert_exporter": "python",
   "pygments_lexer": "ipython3",
   "version": "3.12.1"
  }
 },
 "nbformat": 4,
 "nbformat_minor": 2
}
