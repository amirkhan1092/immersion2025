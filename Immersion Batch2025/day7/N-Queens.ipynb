{
 "cells": [
  {
   "cell_type": "code",
   "execution_count": 1,
   "metadata": {},
   "outputs": [
    {
     "ename": "NameError",
     "evalue": "name 'self' is not defined",
     "output_type": "error",
     "traceback": [
      "\u001b[0;31m---------------------------------------------------------------------------\u001b[0m",
      "\u001b[0;31mNameError\u001b[0m                                 Traceback (most recent call last)",
      "Cell \u001b[0;32mIn[1], line 31\u001b[0m\n\u001b[1;32m     29\u001b[0m \u001b[38;5;66;03m# Example Usage\u001b[39;00m\n\u001b[1;32m     30\u001b[0m n \u001b[38;5;241m=\u001b[39m \u001b[38;5;241m4\u001b[39m\n\u001b[0;32m---> 31\u001b[0m \u001b[38;5;28mprint\u001b[39m(\u001b[43mtotalNQueens\u001b[49m\u001b[43m(\u001b[49m\u001b[43mn\u001b[49m\u001b[43m)\u001b[49m)  \u001b[38;5;66;03m# Output: 2\u001b[39;00m\n",
      "Cell \u001b[0;32mIn[1], line 21\u001b[0m, in \u001b[0;36mtotalNQueens\u001b[0;34m(n)\u001b[0m\n\u001b[1;32m     18\u001b[0m         diag1\u001b[38;5;241m.\u001b[39mremove(row \u001b[38;5;241m-\u001b[39m col)\n\u001b[1;32m     19\u001b[0m         diag2\u001b[38;5;241m.\u001b[39mremove(row \u001b[38;5;241m+\u001b[39m col)\n\u001b[0;32m---> 21\u001b[0m \u001b[38;5;28;43mself\u001b[39;49m\u001b[38;5;241m.\u001b[39mcount \u001b[38;5;241m=\u001b[39m \u001b[38;5;241m0\u001b[39m\n\u001b[1;32m     22\u001b[0m cols \u001b[38;5;241m=\u001b[39m \u001b[38;5;28mset\u001b[39m()\n\u001b[1;32m     23\u001b[0m diag1 \u001b[38;5;241m=\u001b[39m \u001b[38;5;28mset\u001b[39m()\n",
      "\u001b[0;31mNameError\u001b[0m: name 'self' is not defined"
     ]
    }
   ],
   "source": [
    "def totalNQueens(n):\n",
    "    def backtrack(row):\n",
    "        if row == n:\n",
    "            count += 1\n",
    "            return\n",
    "        \n",
    "        for col in range(n):\n",
    "            if col in cols or row - col in diag1 or row + col in diag2:\n",
    "                continue\n",
    "            \n",
    "            cols.add(col)\n",
    "            diag1.add(row - col)\n",
    "            diag2.add(row + col)\n",
    "            \n",
    "            backtrack(row + 1)\n",
    "            \n",
    "            cols.remove(col)\n",
    "            diag1.remove(row - col)\n",
    "            diag2.remove(row + col)\n",
    "    \n",
    "    count = 0\n",
    "    cols = set()\n",
    "    diag1 = set()\n",
    "    diag2 = set()\n",
    "    \n",
    "    backtrack(0)\n",
    "    return count\n",
    "\n",
    "# Example Usage\n",
    "n = 4\n",
    "print(totalNQueens(n))  # Output: 2\n"
   ]
  }
 ],
 "metadata": {
  "kernelspec": {
   "display_name": "Python 3",
   "language": "python",
   "name": "python3"
  },
  "language_info": {
   "codemirror_mode": {
    "name": "ipython",
    "version": 3
   },
   "file_extension": ".py",
   "mimetype": "text/x-python",
   "name": "python",
   "nbconvert_exporter": "python",
   "pygments_lexer": "ipython3",
   "version": "3.12.1"
  }
 },
 "nbformat": 4,
 "nbformat_minor": 2
}
