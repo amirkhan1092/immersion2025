{
 "cells": [
  {
   "cell_type": "code",
   "execution_count": 7,
   "metadata": {},
   "outputs": [
    {
     "name": "stdout",
     "output_type": "stream",
     "text": [
      "5\n"
     ]
    }
   ],
   "source": [
    "from collections import defaultdict, deque\n",
    "\n",
    "def bfs(capacity, source, sink, parent):\n",
    "    visited = set()\n",
    "    queue = deque([source])\n",
    "    visited.add(source)\n",
    "    \n",
    "    while queue:\n",
    "        current = queue.popleft()\n",
    "        \n",
    "        for neighbor, cap in capacity[current].items():\n",
    "            if neighbor not in visited and cap > 0:\n",
    "                parent[neighbor] = current\n",
    "                visited.add(neighbor)\n",
    "                queue.append(neighbor)\n",
    "                if neighbor == sink:\n",
    "                    return True\n",
    "    return False\n",
    "\n",
    "def edmonds_karp(n, edges, source, sink):\n",
    "    capacity = defaultdict(lambda: defaultdict(int))\n",
    "    \n",
    "    for u, v, c in edges:\n",
    "        capacity[u][v] += c  # handle multiple edges between same nodes\n",
    "    \n",
    "    parent = {}\n",
    "    max_flow = 0\n",
    "    \n",
    "    while bfs(capacity, source, sink, parent):\n",
    "        path_flow = float('Inf')\n",
    "        s = sink\n",
    "        \n",
    "        while s != source:\n",
    "            path_flow = min(path_flow, capacity[parent[s]][s])\n",
    "            s = parent[s]\n",
    "        \n",
    "        v = sink\n",
    "        while v != source:\n",
    "            u = parent[v]\n",
    "            capacity[u][v] -= path_flow\n",
    "            capacity[v][u] += path_flow\n",
    "            v = parent[v]\n",
    "        \n",
    "        max_flow += path_flow\n",
    "    \n",
    "    return max_flow\n",
    "\n",
    "# Input\n",
    "data = '''\n",
    "4 3 0 3\n",
    "0 1 8\n",
    "1 2 6\n",
    "2 3 5\n",
    "\n",
    "\n",
    "\n",
    "'''.strip().split('\\n')\n",
    "\n",
    "n, m, s, t = map(int, data[0].strip().split())\n",
    "edges = [list(map(int, data[_].strip().split())) for _ in range(1, m+1)]\n",
    "\n",
    "# Output\n",
    "print(edmonds_karp(n, edges, s, t))\n"
   ]
  }
 ],
 "metadata": {
  "kernelspec": {
   "display_name": "Python 3",
   "language": "python",
   "name": "python3"
  },
  "language_info": {
   "codemirror_mode": {
    "name": "ipython",
    "version": 3
   },
   "file_extension": ".py",
   "mimetype": "text/x-python",
   "name": "python",
   "nbconvert_exporter": "python",
   "pygments_lexer": "ipython3",
   "version": "3.12.1"
  }
 },
 "nbformat": 4,
 "nbformat_minor": 2
}
