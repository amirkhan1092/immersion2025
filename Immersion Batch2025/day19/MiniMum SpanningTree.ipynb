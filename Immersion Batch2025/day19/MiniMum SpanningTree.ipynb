{
 "cells": [
  {
   "cell_type": "code",
   "execution_count": 9,
   "metadata": {},
   "outputs": [
    {
     "name": "stdout",
     "output_type": "stream",
     "text": [
      "38\n"
     ]
    }
   ],
   "source": [
    "class UnionFind:\n",
    "    def __init__(self, n):\n",
    "        self.parent = list(range(n))\n",
    "        self.rank = [1] * n\n",
    "\n",
    "    def find(self, u):\n",
    "        if self.parent[u] != u:\n",
    "            self.parent[u] = self.find(self.parent[u])\n",
    "        return self.parent[u]\n",
    "\n",
    "    def union(self, u, v):\n",
    "        root_u = self.find(u)\n",
    "        root_v = self.find(v)\n",
    "\n",
    "        if root_u != root_v:\n",
    "            if self.rank[root_u] > self.rank[root_v]:\n",
    "                self.parent[root_v] = root_u\n",
    "            elif self.rank[root_u] < self.rank[root_v]:\n",
    "                self.parent[root_u] = root_v\n",
    "            else:\n",
    "                self.parent[root_v] = root_u\n",
    "                self.rank[root_u] += 1\n",
    "            return True\n",
    "        return False\n",
    "\n",
    "def kruskal_with_constraints(n, edges, mandatory):\n",
    "    uf = UnionFind(n)\n",
    "    mst_cost = 0\n",
    "\n",
    "    # Include all mandatory edges\n",
    "    for u, v in mandatory:\n",
    "        if uf.union(u, v):\n",
    "            mst_cost += next(w for (x, y, w) in edges if (x == u and y == v) or (x == v and y == u))\n",
    "\n",
    "    # Sort edges by weight\n",
    "    edges.sort(key=lambda x: x[2])\n",
    "\n",
    "    # Kruskal's algorithm\n",
    "    for u, v, w in edges:\n",
    "        if uf.union(u, v):\n",
    "            mst_cost += w\n",
    "\n",
    "    # Check if all nodes are connected\n",
    "    root = uf.find(0)\n",
    "    if all(uf.find(i) == root for i in range(n)):\n",
    "        return mst_cost\n",
    "    else:\n",
    "        return -1\n",
    "    \n",
    "# Input\n",
    "data = '''\n",
    "6 8\n",
    "0 1 10\n",
    "0 2 15\n",
    "1 2 5\n",
    "1 3 7\n",
    "2 3 8\n",
    "2 4 10\n",
    "3 4 12\n",
    "4 5 6\n",
    "3\n",
    "0 1\n",
    "1 3\n",
    "4 5\n",
    "\n",
    "\n",
    "'''.strip().split('\\n')\n",
    "\n",
    "n, m = map(int, data[0].strip().split())\n",
    "edges = [tuple(map(int, data[_].strip().split())) for _ in range(1, m+1)]\n",
    "k = int(data[m+1].strip())\n",
    "index = m+2\n",
    "mandatory = [tuple(map(int, data[_].strip().split())) for _ in range(index, k+index)]\n",
    "# print(mandatory)\n",
    "# Output\n",
    "print(kruskal_with_constraints(n, edges, mandatory))\n"
   ]
  }
 ],
 "metadata": {
  "kernelspec": {
   "display_name": "Python 3",
   "language": "python",
   "name": "python3"
  },
  "language_info": {
   "codemirror_mode": {
    "name": "ipython",
    "version": 3
   },
   "file_extension": ".py",
   "mimetype": "text/x-python",
   "name": "python",
   "nbconvert_exporter": "python",
   "pygments_lexer": "ipython3",
   "version": "3.12.1"
  }
 },
 "nbformat": 4,
 "nbformat_minor": 2
}
