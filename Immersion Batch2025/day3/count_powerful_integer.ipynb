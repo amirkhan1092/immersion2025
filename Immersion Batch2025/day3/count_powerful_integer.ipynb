{
 "cells": [
  {
   "cell_type": "code",
   "execution_count": 4,
   "metadata": {},
   "outputs": [
    {
     "name": "stdout",
     "output_type": "stream",
     "text": [
      "1 6000 4 \"124\"\n",
      "100 1000 3 \"23\"\n",
      "1 100 9 \"5\"\n",
      "10 1000 5 \"55\"\n",
      "1 12345 4 \"34\"\n",
      "200 1500 7 \"56\"\n",
      "50 500 2 \"12\"\n",
      "1 50000 5 \"55\"\n",
      "123 123456 8 \"456\"\n",
      "1000 100000 6 \"66\"\n",
      "\n",
      "\n",
      "5\n",
      "3\n",
      "10\n",
      "6\n",
      "39\n",
      "11\n",
      "2\n",
      "180\n",
      "103\n",
      "336\n"
     ]
    }
   ],
   "source": [
    "def count_powerful_integers(start, finish, limit, s):\n",
    "    def is_valid(number_str):\n",
    "        return all(0 <= int(ch) <= limit for ch in number_str)\n",
    "\n",
    "    count = 0\n",
    "    suffix_len = len(s)\n",
    "    suffix_num = int(s)\n",
    "\n",
    "    # Find the base start and end range to search\n",
    "    base_start = (start // (10 ** suffix_len)) * (10 ** suffix_len) + suffix_num\n",
    "    base_end = (finish // (10 ** suffix_len)) * (10 ** suffix_len) + suffix_num\n",
    "    \n",
    "    # Adjust base_start to be at least 'start'\n",
    "    while base_start < start:\n",
    "        base_start += 10 ** suffix_len\n",
    "    \n",
    "    # Adjust base_end to be at most 'finish'\n",
    "    while base_end > finish:\n",
    "        base_end -= 10 ** suffix_len\n",
    "\n",
    "    # Iterate through the range and check validity\n",
    "    current = base_start\n",
    "    while current <= base_end:\n",
    "        current_str = str(current)\n",
    "        if current_str.endswith(s) and is_valid(current_str):\n",
    "            count += 1\n",
    "        current += 10 ** suffix_len\n",
    "\n",
    "    return count\n",
    "\n",
    "# Example usage\n",
    "data = [(1, 6000, 4, \"124\"),\n",
    "    (100, 1000, 3, \"23\"),\n",
    "    (1, 100, 9, \"5\"),\n",
    "    (10, 1000, 5, \"55\"),\n",
    "    (1, 12345, 4, \"34\"),\n",
    "    (200, 1500, 7, \"56\"),\n",
    "    (50, 500, 2, \"12\"),\n",
    "    (1, 50000, 5, \"55\"),\n",
    "    (123, 123456, 8, \"456\"),\n",
    "    (1000, 100000, 6, \"66\")]\n",
    "for i in data:\n",
    "    print(f'{i[0]} {i[1]} {i[2]} \"{i[3]}\"')  # Output: 5\n",
    "   \n",
    "print('\\n')\n",
    "for start, finish, limit, s in data:\n",
    "    print(count_powerful_integers(start, finish, limit, s))  # Output: 5\n"
   ]
  }
 ],
 "metadata": {
  "kernelspec": {
   "display_name": "Python 3",
   "language": "python",
   "name": "python3"
  },
  "language_info": {
   "codemirror_mode": {
    "name": "ipython",
    "version": 3
   },
   "file_extension": ".py",
   "mimetype": "text/x-python",
   "name": "python",
   "nbconvert_exporter": "python",
   "pygments_lexer": "ipython3",
   "version": "3.12.1"
  }
 },
 "nbformat": 4,
 "nbformat_minor": 2
}
