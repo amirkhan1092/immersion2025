{
 "cells": [
  {
   "cell_type": "code",
   "execution_count": 7,
   "metadata": {},
   "outputs": [
    {
     "name": "stdout",
     "output_type": "stream",
     "text": [
      "4\n"
     ]
    }
   ],
   "source": [
    "# Transforming Quxes\n",
    "def min_remaining_quxes(quxes):\n",
    "    # Helper function to get the third color\n",
    "    def third_color(c1, c2):\n",
    "        colors = {'R', 'G', 'B'}\n",
    "        colors.remove(c1)\n",
    "        colors.remove(c2)\n",
    "        return colors.pop()\n",
    "    \n",
    "    # Convert the list to a mutable list of characters\n",
    "    quxes = list(quxes)\n",
    "    \n",
    "    # Process the transformations\n",
    "    i = 0\n",
    "    while i < len(quxes) - 1:\n",
    "        if quxes[i] != quxes[i + 1]:\n",
    "            new_color = third_color(quxes[i], quxes[i + 1])\n",
    "            quxes = quxes[:i] + [new_color] + quxes[i + 2:]\n",
    "            i = max(i - 1, 0)\n",
    "        else:\n",
    "            i += 1\n",
    "    \n",
    "    return len(quxes)\n",
    "\n",
    "# Reading input\n",
    "data = '''\n",
    "8\n",
    "RRRRGGGG\n",
    "'''.strip().split('\\n')\n",
    "n = int(data[0].strip())\n",
    "quxes = data[1].strip()\n",
    "\n",
    "# Computing the result\n",
    "result = min_remaining_quxes(quxes)\n",
    "\n",
    "# Printing the output\n",
    "print(result)\n"
   ]
  }
 ],
 "metadata": {
  "kernelspec": {
   "display_name": "Python 3",
   "language": "python",
   "name": "python3"
  },
  "language_info": {
   "codemirror_mode": {
    "name": "ipython",
    "version": 3
   },
   "file_extension": ".py",
   "mimetype": "text/x-python",
   "name": "python",
   "nbconvert_exporter": "python",
   "pygments_lexer": "ipython3",
   "version": "3.12.1"
  }
 },
 "nbformat": 4,
 "nbformat_minor": 2
}
