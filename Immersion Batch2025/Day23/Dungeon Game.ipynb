{
 "cells": [
  {
   "cell_type": "code",
   "execution_count": 12,
   "metadata": {},
   "outputs": [
    {
     "name": "stdout",
     "output_type": "stream",
     "text": [
      "1\n"
     ]
    }
   ],
   "source": [
    "class Solution:\n",
    "    def calculateMinimumHP(self, d):\n",
    "        m=len(d)\n",
    "        n=len(d[0])\n",
    "        dp=[[0]*n for _ in range(m)]\n",
    "        #base case \n",
    "        if d[m-1][n-1]<0:\n",
    "            dp[m-1][n-1]=abs(d[m-1][n-1])+1\n",
    "        else:\n",
    "            dp[m-1][n-1]=1\n",
    "        for i in range(m-1,-1,-1):\n",
    "            for j in range(n-1,-1,-1):\n",
    "                if i==m-1 and j==n-1:\n",
    "                    continue\n",
    "                if i==m-1:\n",
    "                    if d[i][j]>0:\n",
    "                        if d[i][j]>=dp[i][j+1]:\n",
    "                            dp[i][j]=1\n",
    "                        else:\n",
    "                            dp[i][j]=dp[i][j+1]-d[i][j]\n",
    "                    else:\n",
    "                        dp[i][j]= abs(d[i][j])+dp[i][j+1]\n",
    "                if j==n-1:\n",
    "                    if d[i][j]>0:\n",
    "                        if d[i][j]>=dp[i+1][j]:\n",
    "                            dp[i][j]=1\n",
    "                        else:\n",
    "                            dp[i][j]=dp[i+1][j]-d[i][j]\n",
    "                    else:\n",
    "                        dp[i][j]= abs(d[i][j])+dp[i+1][j]\n",
    "                elif i<m-1 and j<n-1:\n",
    "                    mini=min(dp[i][j+1],dp[i+1][j])\n",
    "                    if d[i][j]<=0:\n",
    "                        dp[i][j]=abs(d[i][j])+mini\n",
    "                    else:\n",
    "                        if d[i][j]<mini:\n",
    "                            dp[i][j]=mini-d[i][j]\n",
    "                        else:\n",
    "                            dp[i][j]=1 \n",
    "        return dp[0][0]\n",
    "\n",
    "# Reading input\n",
    "data = '''\n",
    "3 3\n",
    "1 -1 3\n",
    "10 -1 -4\n",
    "3 -5 -3\n",
    "\n",
    "'''.strip().split('\\n')\n",
    "n, m = map(int, data[0].split())\n",
    "dungeon = [list(map(int, data[_].split())) for _ in range(1, n+1)]\n",
    "\n",
    "# Printing output\n",
    "obj = Solution()\n",
    "print(obj.calculateMinimumHP(dungeon))     \n",
    "        "
   ]
  }
 ],
 "metadata": {
  "kernelspec": {
   "display_name": "Python 3",
   "language": "python",
   "name": "python3"
  },
  "language_info": {
   "codemirror_mode": {
    "name": "ipython",
    "version": 3
   },
   "file_extension": ".py",
   "mimetype": "text/x-python",
   "name": "python",
   "nbconvert_exporter": "python",
   "pygments_lexer": "ipython3",
   "version": "3.12.1"
  }
 },
 "nbformat": 4,
 "nbformat_minor": 2
}
