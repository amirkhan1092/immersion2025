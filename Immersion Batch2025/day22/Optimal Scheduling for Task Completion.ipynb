{
 "cells": [
  {
   "cell_type": "code",
   "execution_count": 4,
   "metadata": {},
   "outputs": [
    {
     "ename": "IndexError",
     "evalue": "list index out of range",
     "output_type": "error",
     "traceback": [
      "\u001b[0;31m---------------------------------------------------------------------------\u001b[0m",
      "\u001b[0;31mIndexError\u001b[0m                                Traceback (most recent call last)",
      "Cell \u001b[0;32mIn[4], line 50\u001b[0m\n\u001b[1;32m     48\u001b[0m tasks \u001b[38;5;241m=\u001b[39m []\n\u001b[1;32m     49\u001b[0m \u001b[38;5;28;01mfor\u001b[39;00m _ \u001b[38;5;129;01min\u001b[39;00m \u001b[38;5;28mrange\u001b[39m(\u001b[38;5;241m1\u001b[39m, n\u001b[38;5;241m+\u001b[39m\u001b[38;5;241m1\u001b[39m):\n\u001b[0;32m---> 50\u001b[0m     task_info \u001b[38;5;241m=\u001b[39m \u001b[38;5;28mlist\u001b[39m(\u001b[38;5;28mmap\u001b[39m(\u001b[38;5;28mint\u001b[39m, \u001b[43mdata\u001b[49m\u001b[43m[\u001b[49m\u001b[43m_\u001b[49m\u001b[43m]\u001b[49m\u001b[38;5;241m.\u001b[39msplit()))\n\u001b[1;32m     51\u001b[0m     tasks\u001b[38;5;241m.\u001b[39mappend(task_info)\n\u001b[1;32m     53\u001b[0m \u001b[38;5;66;03m# Output\u001b[39;00m\n",
      "\u001b[0;31mIndexError\u001b[0m: list index out of range"
     ]
    }
   ],
   "source": [
    "from collections import deque, defaultdict\n",
    "\n",
    "def minTimeToCompleteTasks(n, tasks):\n",
    "    indegree = [0] * n\n",
    "    graph = defaultdict(list)\n",
    "    time = [0] * n\n",
    "    \n",
    "    # Build the graph and time arrays\n",
    "    for i in range(n):\n",
    "        task = tasks[i]\n",
    "        duration = task[0]\n",
    "        prerequisites = task[1:]\n",
    "        time[i] = duration\n",
    "        for prereq in prerequisites:\n",
    "            graph[prereq].append(i)\n",
    "            indegree[i] += 1\n",
    "            \n",
    "    # Topological sort\n",
    "    queue = deque()\n",
    "    for i in range(n):\n",
    "        if indegree[i] == 0:\n",
    "            queue.append(i)\n",
    "            \n",
    "    dp = [0] * n\n",
    "    while queue:\n",
    "        node = queue.popleft()\n",
    "        for neighbor in graph[node]:\n",
    "            dp[neighbor] = max(dp[neighbor], dp[node] + time[node])\n",
    "            indegree[neighbor] -= 1\n",
    "            if indegree[neighbor] == 0:\n",
    "                queue.append(neighbor)\n",
    "    \n",
    "    return max(dp[i] + time[i] for i in range(n))\n",
    "\n",
    "# Input reading\n",
    "data = '''\n",
    "6\n",
    "2\n",
    "3 0\n",
    "4 0 1\n",
    "6 1 2\n",
    "5 3\n",
    "\n",
    "'''.strip().split('\\n')\n",
    "n = int(data[0])\n",
    "tasks = []\n",
    "for _ in range(1, n+1):\n",
    "    task_info = list(map(int, data[_].split()))\n",
    "    tasks.append(task_info)\n",
    "\n",
    "# Output\n",
    "print(minTimeToCompleteTasks(n, tasks))\n"
   ]
  },
  {
   "cell_type": "code",
   "execution_count": 10,
   "metadata": {},
   "outputs": [
    {
     "name": "stdout",
     "output_type": "stream",
     "text": [
      "8\n"
     ]
    }
   ],
   "source": [
    "from collections import deque, defaultdict\n",
    "\n",
    "def minTimeToCompleteTasks(n, tasks):\n",
    "    indegree = [0] * n\n",
    "    graph = defaultdict(list)\n",
    "    time = [0] * n\n",
    "    \n",
    "    # Build the graph and time arrays\n",
    "    for i in range(n):\n",
    "        task = tasks[i]\n",
    "        duration = task[0]\n",
    "        prerequisites = task[1:]\n",
    "        time[i] = duration\n",
    "        for prereq in prerequisites:\n",
    "            graph[prereq].append(i)\n",
    "            indegree[i] += 1\n",
    "            \n",
    "    # Topological sort\n",
    "    queue = deque()\n",
    "    for i in range(n):\n",
    "        if indegree[i] == 0:\n",
    "            queue.append(i)\n",
    "            \n",
    "    dp = [0] * n\n",
    "    while queue:\n",
    "        node = queue.popleft()\n",
    "        for neighbor in graph[node]:\n",
    "            dp[neighbor] = max(dp[neighbor], dp[node] + time[node])\n",
    "            indegree[neighbor] -= 1\n",
    "            if indegree[neighbor] == 0:\n",
    "                queue.append(neighbor)\n",
    "    \n",
    "    return max(dp[i] + time[i] for i in range(n))\n",
    "\n",
    "# Input reading\n",
    "data = '''\n",
    "\n",
    "5\n",
    "3\n",
    "2 0\n",
    "1 0\n",
    "4 2 3\n",
    "2 3\n",
    "'''.strip().split('\\n')\n",
    "n = int(data[0])\n",
    "tasks = []\n",
    "for _ in range(1, n+1):\n",
    "    task_info = list(map(int, data[_].split()))\n",
    "    tasks.append(task_info)\n",
    "\n",
    "# Output\n",
    "print(minTimeToCompleteTasks(n, tasks))\n"
   ]
  }
 ],
 "metadata": {
  "kernelspec": {
   "display_name": "Python 3",
   "language": "python",
   "name": "python3"
  },
  "language_info": {
   "codemirror_mode": {
    "name": "ipython",
    "version": 3
   },
   "file_extension": ".py",
   "mimetype": "text/x-python",
   "name": "python",
   "nbconvert_exporter": "python",
   "pygments_lexer": "ipython3",
   "version": "3.12.1"
  }
 },
 "nbformat": 4,
 "nbformat_minor": 2
}
