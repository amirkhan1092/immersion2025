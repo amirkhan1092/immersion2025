{
 "cells": [
  {
   "cell_type": "code",
   "execution_count": 7,
   "metadata": {},
   "outputs": [
    {
     "name": "stdout",
     "output_type": "stream",
     "text": [
      "1\n"
     ]
    }
   ],
   "source": [
    "class UnionFind:\n",
    "    def __init__(self, size):\n",
    "        self.parent = list(range(size))\n",
    "        self.rank = [0] * size\n",
    "    \n",
    "    def find(self, u):\n",
    "        if self.parent[u] != u:\n",
    "            self.parent[u] = self.find(self.parent[u])\n",
    "        return self.parent[u]\n",
    "    \n",
    "    def union(self, u, v):\n",
    "        root_u = self.find(u)\n",
    "        root_v = self.find(v)\n",
    "        if root_u != root_v:\n",
    "            if self.rank[root_u] > self.rank[root_v]:\n",
    "                self.parent[root_v] = root_u\n",
    "            elif self.rank[root_u] < self.rank[root_v]:\n",
    "                self.parent[root_u] = root_v\n",
    "            else:\n",
    "                self.parent[root_v] = root_u\n",
    "                self.rank[root_u] += 1\n",
    "\n",
    "def minimumCostToConnectCities(n, roads):\n",
    "    uf = UnionFind(n + 1)\n",
    "    roads.sort(key=lambda x: x[2])\n",
    "    \n",
    "    total_cost = 0\n",
    "    edges_used = 0\n",
    "    \n",
    "    for u, v, cost in roads:\n",
    "        if uf.find(u) != uf.find(v):\n",
    "            uf.union(u, v)\n",
    "            total_cost += cost\n",
    "            edges_used += 1\n",
    "            if edges_used == n - 1:\n",
    "                return total_cost\n",
    "    \n",
    "    return -1 if edges_used < n - 1 else total_cost\n",
    "\n",
    "# Input reading\n",
    "data = '''\n",
    "2\n",
    "1\n",
    "1 2 1\n",
    "\n",
    "\n",
    "\n",
    "\n",
    "'''.strip().split('\\n')\n",
    "n = int(data[0])\n",
    "m = int(data[1])\n",
    "roads = []\n",
    "for _ in range(2, m+2):\n",
    "    u, v, cost = map(int, data[_].split())\n",
    "    roads.append((u, v, cost))\n",
    "\n",
    "# Output\n",
    "print(minimumCostToConnectCities(n, roads))\n"
   ]
  }
 ],
 "metadata": {
  "kernelspec": {
   "display_name": "Python 3",
   "language": "python",
   "name": "python3"
  },
  "language_info": {
   "codemirror_mode": {
    "name": "ipython",
    "version": 3
   },
   "file_extension": ".py",
   "mimetype": "text/x-python",
   "name": "python",
   "nbconvert_exporter": "python",
   "pygments_lexer": "ipython3",
   "version": "3.12.1"
  }
 },
 "nbformat": 4,
 "nbformat_minor": 2
}
