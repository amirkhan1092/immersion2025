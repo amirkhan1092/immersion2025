{
 "cells": [
  {
   "cell_type": "code",
   "execution_count": 6,
   "metadata": {},
   "outputs": [
    {
     "name": "stdout",
     "output_type": "stream",
     "text": [
      "280\n"
     ]
    }
   ],
   "source": [
    "def optimal_resource_allocation(N, R, projects):\n",
    "    dp = [0] * (R + 1)\n",
    "    \n",
    "    for value, resource in projects:\n",
    "        for r in range(R, resource - 1, -1):\n",
    "            dp[r] = max(dp[r], dp[r - resource] + value)\n",
    "    \n",
    "    return dp[R]\n",
    "\n",
    "# Input reading\n",
    "data = '''\n",
    "5 9\n",
    "60 2\n",
    "100 3\n",
    "120 4\n",
    "80 5\n",
    "50 1\n",
    "'''.strip().split('\\n')\n",
    "\n",
    "N, R = map(int, data[0].split())\n",
    "projects = []\n",
    "for _ in range(1, N+1):\n",
    "    value, resource = map(int, data[_].split())\n",
    "    projects.append((value, resource))\n",
    "# Output\n",
    "result = optimal_resource_allocation(N, R, projects)\n",
    "print(result)\n"
   ]
  }
 ],
 "metadata": {
  "kernelspec": {
   "display_name": "Python 3",
   "language": "python",
   "name": "python3"
  },
  "language_info": {
   "codemirror_mode": {
    "name": "ipython",
    "version": 3
   },
   "file_extension": ".py",
   "mimetype": "text/x-python",
   "name": "python",
   "nbconvert_exporter": "python",
   "pygments_lexer": "ipython3",
   "version": "3.12.1"
  }
 },
 "nbformat": 4,
 "nbformat_minor": 2
}
