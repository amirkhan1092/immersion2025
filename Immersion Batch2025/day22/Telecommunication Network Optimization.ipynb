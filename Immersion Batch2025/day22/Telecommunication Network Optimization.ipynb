{
 "cells": [
  {
   "cell_type": "code",
   "execution_count": 13,
   "metadata": {},
   "outputs": [
    {
     "name": "stdout",
     "output_type": "stream",
     "text": [
      "-1\n"
     ]
    }
   ],
   "source": [
    "class UnionFind:\n",
    "    def __init__(self, size):\n",
    "        self.parent = list(range(size))\n",
    "        self.rank = [1] * size\n",
    "    \n",
    "    def find(self, x):\n",
    "        if self.parent[x] != x:\n",
    "            self.parent[x] = self.find(self.parent[x])\n",
    "        return self.parent[x]\n",
    "    \n",
    "    def union(self, x, y):\n",
    "        rootX = self.find(x)\n",
    "        rootY = self.find(y)\n",
    "        if rootX != rootY:\n",
    "            if self.rank[rootX] > self.rank[rootY]:\n",
    "                self.parent[rootY] = rootX\n",
    "            elif self.rank[rootX] < self.rank[rootY]:\n",
    "                self.parent[rootX] = rootY\n",
    "            else:\n",
    "                self.parent[rootY] = rootX\n",
    "                self.rank[rootX] += 1\n",
    "            return True\n",
    "        return False\n",
    "\n",
    "def minimumSpanningTreeWithHighPriorityEdges(n, edges, highPriorityEdges):\n",
    "    edges.sort(key=lambda x: x[2])  # Sort edges based on cost\n",
    "    highPriorityEdgesSet = set((a, b) for a, b in highPriorityEdges)\n",
    "    \n",
    "    minCost = float('inf')\n",
    "    \n",
    "    for highPriority in highPriorityEdges:\n",
    "        uf = UnionFind(n + 1)\n",
    "        totalCost = 0\n",
    "        highPriorityIncluded = False\n",
    "        \n",
    "        for edge in edges:\n",
    "            u, v, w = edge\n",
    "            if uf.union(u, v):\n",
    "                totalCost += w\n",
    "                if (u, v) in highPriorityEdgesSet or (v, u) in highPriorityEdgesSet:\n",
    "                    highPriorityIncluded = True\n",
    "        \n",
    "        if highPriorityIncluded and all(uf.find(i) == uf.find(1) for i in range(1, n + 1)):\n",
    "            minCost = min(minCost, totalCost)\n",
    "    \n",
    "    return minCost if minCost != float('inf') else -1\n",
    "\n",
    "# Input\n",
    "data = '''\n",
    "4 3 2\n",
    "1 2 3\n",
    "1 3 1\n",
    "1 4 6\n",
    "2 5\n",
    "3 6\n",
    "\n",
    "\n",
    "'''.strip().split('\\n')\n",
    "\n",
    "\n",
    "n, m, k = map(int, data[0].split())\n",
    "edges = []\n",
    "for _ in range(1, m+1):\n",
    "    u, v, w = map(int, data[_].split())\n",
    "    edges.append((u, v, w))\n",
    "highPriorityEdges = []\n",
    "index = m + 1\n",
    "\n",
    "for _ in range(index, k+index):\n",
    "    a, b = map(int, data[_].split())\n",
    "    highPriorityEdges.append((a, b))\n",
    "# print(highPriorityEdges)\n",
    "# Output\n",
    "print(minimumSpanningTreeWithHighPriorityEdges(n, edges, highPriorityEdges))\n"
   ]
  }
 ],
 "metadata": {
  "kernelspec": {
   "display_name": "Python 3",
   "language": "python",
   "name": "python3"
  },
  "language_info": {
   "codemirror_mode": {
    "name": "ipython",
    "version": 3
   },
   "file_extension": ".py",
   "mimetype": "text/x-python",
   "name": "python",
   "nbconvert_exporter": "python",
   "pygments_lexer": "ipython3",
   "version": "3.12.1"
  }
 },
 "nbformat": 4,
 "nbformat_minor": 2
}
