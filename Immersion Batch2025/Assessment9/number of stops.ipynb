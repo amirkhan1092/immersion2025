{
 "cells": [
  {
   "cell_type": "code",
   "execution_count": 8,
   "metadata": {},
   "outputs": [
    {
     "name": "stdout",
     "output_type": "stream",
     "text": [
      "0\n"
     ]
    }
   ],
   "source": [
    "import heapq\n",
    "\n",
    "def minRefuelStops(target, startFuel, stations):\n",
    "    # Convert the stations array to a format suitable for heap operations\n",
    "    stations.append([target, 0])\n",
    "    max_heap = []\n",
    "    stops, prev, fuel = 0, 0, startFuel\n",
    "    \n",
    "    for location, capacity in stations:\n",
    "        fuel -= (location - prev)\n",
    "        while max_heap and fuel < 0:  # Must refuel in order to reach this location\n",
    "            fuel += -heapq.heappop(max_heap)\n",
    "            stops += 1\n",
    "        if fuel < 0:\n",
    "            return -1\n",
    "        heapq.heappush(max_heap, -capacity)\n",
    "        prev = location\n",
    "    \n",
    "    return stops\n",
    "\n",
    "# Reading input\n",
    "data = '''\n",
    "100\n",
    "100\n",
    "0\n",
    "\n",
    "\n",
    "'''.strip().split('\\n')\n",
    "\n",
    "\n",
    "target = int(data[0])\n",
    "startFuel = int(data[1])\n",
    "n = int(data[2])\n",
    "stations = [list(map(int, data[3].split())) for _ in range(3, n+3)]\n",
    "# Solving the problem\n",
    "result = minRefuelStops(target, startFuel, stations)\n",
    "print(result)\n"
   ]
  }
 ],
 "metadata": {
  "kernelspec": {
   "display_name": "Python 3",
   "language": "python",
   "name": "python3"
  },
  "language_info": {
   "codemirror_mode": {
    "name": "ipython",
    "version": 3
   },
   "file_extension": ".py",
   "mimetype": "text/x-python",
   "name": "python",
   "nbconvert_exporter": "python",
   "pygments_lexer": "ipython3",
   "version": "3.12.1"
  }
 },
 "nbformat": 4,
 "nbformat_minor": 2
}
