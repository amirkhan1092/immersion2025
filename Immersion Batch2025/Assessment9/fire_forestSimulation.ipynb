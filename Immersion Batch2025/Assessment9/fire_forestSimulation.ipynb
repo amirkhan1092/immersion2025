{
 "cells": [
  {
   "cell_type": "code",
   "execution_count": null,
   "metadata": {},
   "outputs": [],
   "source": [
    "from collections import deque\n",
    "\n",
    "def min_fire_spread_time(m, n, grid, start_row, start_col):\n",
    "    # Directions for moving in the grid (right, down, left, up)\n",
    "    directions = [(0, 1), (1, 0), (0, -1), (-1, 0)]\n",
    "    \n",
    "    # Queue for BFS and a set for visited positions\n",
    "    queue = deque([(start_row, start_col, 0)]) # (row, col, time)\n",
    "    visited = set([(start_row, start_col)])\n",
    "    \n",
    "    # BFS to spread the fire\n",
    "    max_time = 0\n",
    "    while queue:\n",
    "        x, y, time = queue.popleft()\n",
    "        max_time = max(max_time, time)\n",
    "        \n",
    "        for dx, dy in directions:\n",
    "            nx, ny = x + dx, y + dy\n",
    "            \n",
    "            # Check if the new position is within bounds and is not a rock\n",
    "            if 0 <= nx < m and 0 <= ny < n and (nx, ny) not in visited and grid[nx][ny] != '#':\n",
    "                visited.add((nx, ny))\n",
    "                queue.append((nx, ny, time + 1))\n",
    "    \n",
    "    # Check if there are any trees or empty spaces that the fire didn't reach\n",
    "    for i in range(m):\n",
    "        for j in range(n):\n",
    "            if grid[i][j] in ('T', '.') and (i, j) not in visited:\n",
    "                return -1\n",
    "    \n",
    "    return max_time\n",
    "\n",
    "# Reading input\n",
    "m, n = map(int, input().split())\n",
    "grid = [input().strip() for _ in range(m)]\n",
    "start_row, start_col = map(int, input().split())\n",
    "\n",
    "# Solving the problem\n",
    "result = min_fire_spread_time(m, n, grid, start_row, start_col)\n",
    "if result == -1:\n",
    "    print(result)\n",
    "else:\n",
    "    print(f\"{result} minutes\")\n"
   ]
  }
 ],
 "metadata": {
  "language_info": {
   "name": "python"
  }
 },
 "nbformat": 4,
 "nbformat_minor": 2
}
