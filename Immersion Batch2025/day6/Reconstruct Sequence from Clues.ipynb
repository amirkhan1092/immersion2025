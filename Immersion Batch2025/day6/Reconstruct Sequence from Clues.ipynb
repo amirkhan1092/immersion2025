{
 "cells": [
  {
   "cell_type": "code",
   "execution_count": 2,
   "metadata": {},
   "outputs": [
    {
     "name": "stdout",
     "output_type": "stream",
     "text": [
      "[1, 0, 2, 4, 3]\n",
      "[3, 2, 1, 0, 4]\n"
     ]
    }
   ],
   "source": [
    "def reconstruct_sequence(clues):\n",
    "    n = len(clues)\n",
    "    result = []\n",
    "    stack = []\n",
    "\n",
    "    for i in range(n):\n",
    "        stack.append(i)\n",
    "        if i == n - 1 or clues[i] == '+':\n",
    "            while stack:\n",
    "                result.append(stack.pop())\n",
    "\n",
    "    return result\n",
    "\n",
    "# Example Usage\n",
    "clues1 = ['None', '+', '+', '-', '+']\n",
    "clues2 = ['None', '-', '-', '+', '-']\n",
    "\n",
    "print(reconstruct_sequence(clues1))  # Output: [0, 1, 2, 4, 3]\n",
    "print(reconstruct_sequence(clues2))  # Output: [2, 1, 0, 4, 3]\n"
   ]
  },
  {
   "cell_type": "code",
   "execution_count": 4,
   "metadata": {},
   "outputs": [
    {
     "name": "stdout",
     "output_type": "stream",
     "text": [
      "[0, 2, 1, 0, 3]\n"
     ]
    }
   ],
   "source": [
    "def reconstruct_sequence(clues):\n",
    "    n = len(clues)\n",
    "    result = []\n",
    "    stack = []\n",
    "\n",
    "    for i in range(n):\n",
    "        stack.append(i)\n",
    "        if i == n - 1 or clues[i] == '+':\n",
    "            while stack:\n",
    "                result.append(stack.pop())\n",
    "\n",
    "    return result\n",
    "\n",
    "# Converting input clues to match the example format\n",
    "# clues_input = [None, '+', '+', '-', '+']\n",
    "clues_input = ['None', '-', '-', '+', '-']\n",
    "# Removing the 'None' at the start since the function assumes clues start with the first comparison\n",
    "clues_input = clues_input[1:]\n",
    "\n",
    "# Generate the sequence\n",
    "output = reconstruct_sequence(clues_input)\n",
    "\n",
    "# Since the problem is zero-based index and the example provided is one-based index,\n",
    "# we need to adjust our output to zero-based by adding 0 at the start\n",
    "output.insert(0, 0)\n",
    "\n",
    "print(output)  # Output should be [0, 1, 2, 4, 3]\n"
   ]
  },
  {
   "cell_type": "code",
   "execution_count": 18,
   "metadata": {},
   "outputs": [
    {
     "name": "stdout",
     "output_type": "stream",
     "text": [
      "4 3 2 1 0\n"
     ]
    },
    {
     "data": {
      "text/plain": [
       "'\\nSPECS:\\n\\nTIME COMPLEXITY: O(n)\\nSPACE COMPLEXITY: O(n)\\n'"
      ]
     },
     "execution_count": 18,
     "metadata": {},
     "output_type": "execute_result"
    }
   ],
   "source": [
    "\"\"\"\n",
    "Problem:\n",
    "\n",
    "The sequence [0, 1, ..., N] has been jumbled, and the only clue you have for its order\n",
    "is an array representing whether each number is larger or smaller than the last. Given\n",
    "this information, reconstruct an array that is consistent with it. For example, given\n",
    "[None, +, +, -, +], you could return [1, 2, 3, 0, 4].\n",
    "\"\"\"\n",
    "\n",
    "\n",
    "from typing import List, Optional\n",
    "\n",
    "\n",
    "def get_sequence(relative_arr: List[Optional[str]]) -> List[int]:\n",
    "    length = len(relative_arr)\n",
    "    larger_count = relative_arr.count(\"+\")\n",
    "    first_num = length - 1 - larger_count\n",
    "    larger_num, smaller_num = first_num + 1, first_num - 1\n",
    "\n",
    "    result = [first_num]\n",
    "    for elem in relative_arr[1:]:\n",
    "        if elem == \"+\":\n",
    "            result.append(larger_num)\n",
    "            larger_num += 1\n",
    "        else:\n",
    "            result.append(smaller_num)\n",
    "            smaller_num -= 1\n",
    "    return result\n",
    "\n",
    "\n",
    "if __name__ == \"__main__\":\n",
    "    data = '''\n",
    "5 \n",
    "None - - - -\n",
    "'''\n",
    "    data = data.strip().split('\\n')\n",
    "    print(*get_sequence(data[1].split()))\n",
    "    # print(get_sequence([None, \"+\", \"+\", \"-\", \"+\"]))\n",
    "\n",
    "\n",
    "\"\"\"\n",
    "SPECS:\n",
    "\n",
    "TIME COMPLEXITY: O(n)\n",
    "SPACE COMPLEXITY: O(n)\n",
    "\"\"\""
   ]
  }
 ],
 "metadata": {
  "kernelspec": {
   "display_name": "Python 3",
   "language": "python",
   "name": "python3"
  },
  "language_info": {
   "codemirror_mode": {
    "name": "ipython",
    "version": 3
   },
   "file_extension": ".py",
   "mimetype": "text/x-python",
   "name": "python",
   "nbconvert_exporter": "python",
   "pygments_lexer": "ipython3",
   "version": "3.12.1"
  }
 },
 "nbformat": 4,
 "nbformat_minor": 2
}
