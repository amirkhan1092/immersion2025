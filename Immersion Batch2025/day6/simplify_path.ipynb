{
 "cells": [
  {
   "cell_type": "code",
   "execution_count": 5,
   "metadata": {},
   "outputs": [
    {
     "name": "stdout",
     "output_type": "stream",
     "text": [
      "/a/b\n"
     ]
    }
   ],
   "source": [
    "\n",
    "\n",
    "def simplifyPath(path):\n",
    "    parts = path.split('/')\n",
    "    stack = []\n",
    "\n",
    "    for part in parts:\n",
    "        if part == '..':\n",
    "            if stack:\n",
    "                stack.pop()\n",
    "        elif part and part != '.':\n",
    "            stack.append(part)\n",
    "\n",
    "    return '/' + '/'.join(stack)\n",
    "\n",
    "# Example Usage\n",
    "path1 = \"/a//b////c/d//././/\"\n",
    "path2 = \"/../\"\n",
    "path3 = \"/home//foo/\"\n",
    "path4 = \"/a/./b/../../c/\"\n",
    "path5 = \"/a//b//\"\n",
    "\n",
    "print(simplifyPath(path5))  # Output: /home\n",
    "# print(simplifyPath(path2))  # Output: /\n",
    "# print(simplifyPath(path3))  # Output: /home/foo\n",
    "# print(simplifyPath(path4))  # Output: /c\n",
    "# print(simplifyPath(path5))  # Output: /a/b/c\n"
   ]
  }
 ],
 "metadata": {
  "kernelspec": {
   "display_name": "Python 3",
   "language": "python",
   "name": "python3"
  },
  "language_info": {
   "codemirror_mode": {
    "name": "ipython",
    "version": 3
   },
   "file_extension": ".py",
   "mimetype": "text/x-python",
   "name": "python",
   "nbconvert_exporter": "python",
   "pygments_lexer": "ipython3",
   "version": "3.12.1"
  }
 },
 "nbformat": 4,
 "nbformat_minor": 2
}
