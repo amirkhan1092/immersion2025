{
 "cells": [
  {
   "cell_type": "code",
   "execution_count": 8,
   "metadata": {},
   "outputs": [
    {
     "name": "stdout",
     "output_type": "stream",
     "text": [
      "5 3 1 2 1 0\n"
     ]
    }
   ],
   "source": [
    "def count_smaller(nums):\n",
    "    def sort(enum):\n",
    "        half = len(enum) // 2\n",
    "        if half:\n",
    "            left, right = sort(enum[:half]), sort(enum[half:])\n",
    "            for i in range(len(enum))[::-1]:\n",
    "                if not right or left and left[-1][1] > right[-1][1]:\n",
    "                    smaller[left[-1][0]] += len(right)\n",
    "                    enum[i] = left.pop()\n",
    "                else:\n",
    "                    enum[i] = right.pop()\n",
    "        return enum\n",
    "\n",
    "    smaller = [0] * len(nums)\n",
    "    sort(list(enumerate(nums)))\n",
    "    return smaller\n",
    "\n",
    "# Example Usage\n",
    "data = '''\n",
    "6 \n",
    "10 5 2 6 3 1\n",
    "'''.strip().split('\\n')\n",
    "\n",
    "n = int(data[0].strip())\n",
    "nums = list(map(int, data[1].split()))\n",
    "print(' '.join(map(str, count_smaller(nums))))\n"
   ]
  }
 ],
 "metadata": {
  "kernelspec": {
   "display_name": "Python 3",
   "language": "python",
   "name": "python3"
  },
  "language_info": {
   "codemirror_mode": {
    "name": "ipython",
    "version": 3
   },
   "file_extension": ".py",
   "mimetype": "text/x-python",
   "name": "python",
   "nbconvert_exporter": "python",
   "pygments_lexer": "ipython3",
   "version": "3.12.1"
  }
 },
 "nbformat": 4,
 "nbformat_minor": 2
}
