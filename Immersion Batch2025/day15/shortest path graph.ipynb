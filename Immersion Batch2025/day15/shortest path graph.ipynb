{
 "cells": [
  {
   "cell_type": "code",
   "execution_count": 7,
   "metadata": {},
   "outputs": [
    {
     "name": "stdout",
     "output_type": "stream",
     "text": [
      "0 -1 -1 -1\n"
     ]
    }
   ],
   "source": [
    "from collections import defaultdict, deque\n",
    "import sys\n",
    "\n",
    "def shortest_path_in_dag(N, M, edges):\n",
    "    # Create adjacency list and in-degree array\n",
    "    graph = defaultdict(list)\n",
    "    in_degree = [0] * N\n",
    "    \n",
    "    for u, v, w in edges:\n",
    "        graph[u].append((v, w))\n",
    "        in_degree[v] += 1\n",
    "    \n",
    "    # Topological sort using Kahn's algorithm\n",
    "    topo_order = []\n",
    "    queue = deque([i for i in range(N) if in_degree[i] == 0])\n",
    "    \n",
    "    while queue:\n",
    "        node = queue.popleft()\n",
    "        topo_order.append(node)\n",
    "        for neighbor, _ in graph[node]:\n",
    "            in_degree[neighbor] -= 1\n",
    "            if in_degree[neighbor] == 0:\n",
    "                queue.append(neighbor)\n",
    "    \n",
    "    # Initialize distances\n",
    "    distances = [sys.maxsize] * N\n",
    "    distances[0] = 0\n",
    "    \n",
    "    # Relax edges according to topological order\n",
    "    for u in topo_order:\n",
    "        if distances[u] != sys.maxsize:\n",
    "            for v, w in graph[u]:\n",
    "                if distances[u] + w < distances[v]:\n",
    "                    distances[v] = distances[u] + w\n",
    "    \n",
    "    # Replace sys.maxsize with -1 for unreachable nodes\n",
    "    return [d if d != sys.maxsize else -1 for d in distances]\n",
    "\n",
    "# Input reading\n",
    "data = '''\n",
    "4 \n",
    "2\n",
    "2 3 6\n",
    "5 3 6\n",
    "\n",
    "\n",
    "\n",
    "'''.strip().split('\\n')\n",
    "N = int(data[0])\n",
    "M = int(data[1])\n",
    "edges = [tuple(map(int, data[_].split())) for _ in range(2, M+2)]\n",
    "\n",
    "# Processing and Output\n",
    "result = shortest_path_in_dag(N, M, edges)\n",
    "print(\" \".join(map(str, result)))\n"
   ]
  }
 ],
 "metadata": {
  "kernelspec": {
   "display_name": "Python 3",
   "language": "python",
   "name": "python3"
  },
  "language_info": {
   "codemirror_mode": {
    "name": "ipython",
    "version": 3
   },
   "file_extension": ".py",
   "mimetype": "text/x-python",
   "name": "python",
   "nbconvert_exporter": "python",
   "pygments_lexer": "ipython3",
   "version": "3.12.1"
  }
 },
 "nbformat": 4,
 "nbformat_minor": 2
}
