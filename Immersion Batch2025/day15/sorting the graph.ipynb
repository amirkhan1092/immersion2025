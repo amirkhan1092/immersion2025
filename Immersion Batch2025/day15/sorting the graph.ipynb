{
 "cells": [
  {
   "cell_type": "code",
   "execution_count": 6,
   "metadata": {},
   "outputs": [
    {
     "name": "stdout",
     "output_type": "stream",
     "text": [
      "1 3 6 8 10 2 9 4 5 7\n"
     ]
    }
   ],
   "source": [
    "import heapq\n",
    "from collections import defaultdict, deque\n",
    "\n",
    "def lexicographical_topological_sort(V, E, edges):\n",
    "    # Create adjacency list and in-degree array\n",
    "    graph = defaultdict(list)\n",
    "    in_degree = [0] * (V + 1)\n",
    "    \n",
    "    for u, v in edges:\n",
    "        graph[u].append(v)\n",
    "        in_degree[v] += 1\n",
    "    \n",
    "    # Min-heap for nodes with in-degree 0\n",
    "    min_heap = []\n",
    "    for i in range(1, V + 1):\n",
    "        if in_degree[i] == 0:\n",
    "            heapq.heappush(min_heap, i)\n",
    "    \n",
    "    result = []\n",
    "    \n",
    "    while min_heap:\n",
    "        u = heapq.heappop(min_heap)\n",
    "        result.append(u)\n",
    "        \n",
    "        for v in graph[u]:\n",
    "            in_degree[v] -= 1\n",
    "            if in_degree[v] == 0:\n",
    "                heapq.heappush(min_heap, v)\n",
    "    \n",
    "    if len(result) == V:\n",
    "        return result\n",
    "    else:\n",
    "        return [-1]\n",
    "\n",
    "# Input reading\n",
    "data = '''\n",
    "10 20\n",
    "2 7\n",
    "1 10\n",
    "9 5\n",
    "9 7\n",
    "10 2\n",
    "6 10\n",
    "2 9\n",
    "1 9\n",
    "1 4\n",
    "4 5\n",
    "8 5\n",
    "10 5\n",
    "1 3\n",
    "1 2\n",
    "3 6\n",
    "5 7\n",
    "9 4\n",
    "8 9\n",
    "10 7\n",
    "6 2\n",
    "\n",
    "\n",
    "'''.strip().split('\\n')\n",
    "V, E = map(int, data[0].split())\n",
    "edges = [tuple(map(int, data[_].split())) for _ in range(1, E+1)]\n",
    "\n",
    "# Processing and Output\n",
    "result = lexicographical_topological_sort(V, E, edges)\n",
    "print(\" \".join(map(str, result)))\n"
   ]
  }
 ],
 "metadata": {
  "kernelspec": {
   "display_name": "Python 3",
   "language": "python",
   "name": "python3"
  },
  "language_info": {
   "codemirror_mode": {
    "name": "ipython",
    "version": 3
   },
   "file_extension": ".py",
   "mimetype": "text/x-python",
   "name": "python",
   "nbconvert_exporter": "python",
   "pygments_lexer": "ipython3",
   "version": "3.12.1"
  }
 },
 "nbformat": 4,
 "nbformat_minor": 2
}
