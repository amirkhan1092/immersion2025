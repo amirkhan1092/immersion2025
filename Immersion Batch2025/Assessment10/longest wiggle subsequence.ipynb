{
 "cells": [
  {
   "cell_type": "code",
   "execution_count": 7,
   "metadata": {},
   "outputs": [
    {
     "name": "stdout",
     "output_type": "stream",
     "text": [
      "1\n"
     ]
    }
   ],
   "source": [
    "def wiggleMaxLength(nums):\n",
    "    if not nums:\n",
    "        return 0\n",
    "    \n",
    "    n = len(nums)\n",
    "    if n < 2:\n",
    "        return n\n",
    "\n",
    "    up = 1\n",
    "    down = 1\n",
    "\n",
    "    for i in range(1, n):\n",
    "        if nums[i] > nums[i - 1]:\n",
    "            up = down + 1\n",
    "        elif nums[i] < nums[i - 1]:\n",
    "            down = up + 1\n",
    "\n",
    "    return max(up, down)\n",
    "\n",
    "# Input Reading\n",
    "data = '''\n",
    "1\n",
    "5\n",
    "\n",
    "\n",
    "\n",
    "\n",
    "\n",
    "\n",
    "'''.strip().split('\\n')\n",
    "n = int(data[0])\n",
    "nums = list(map(int, data[1].split()))\n",
    "\n",
    "# Compute the result\n",
    "result = wiggleMaxLength(nums)\n",
    "\n",
    "# Print the result\n",
    "print(result)\n"
   ]
  }
 ],
 "metadata": {
  "kernelspec": {
   "display_name": "Python 3",
   "language": "python",
   "name": "python3"
  },
  "language_info": {
   "codemirror_mode": {
    "name": "ipython",
    "version": 3
   },
   "file_extension": ".py",
   "mimetype": "text/x-python",
   "name": "python",
   "nbconvert_exporter": "python",
   "pygments_lexer": "ipython3",
   "version": "3.12.1"
  }
 },
 "nbformat": 4,
 "nbformat_minor": 2
}
