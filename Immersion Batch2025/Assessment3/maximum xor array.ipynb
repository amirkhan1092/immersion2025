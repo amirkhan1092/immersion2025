{
 "cells": [
  {
   "cell_type": "code",
   "execution_count": 8,
   "metadata": {},
   "outputs": [
    {
     "name": "stdout",
     "output_type": "stream",
     "text": [
      "3\n"
     ]
    }
   ],
   "source": [
    "class TrieNode:\n",
    "    def __init__(self):\n",
    "        self.children = {}\n",
    "        \n",
    "class Trie:\n",
    "    def __init__(self):\n",
    "        self.root = TrieNode()\n",
    "    \n",
    "    def insert(self, num):\n",
    "        node = self.root\n",
    "        for i in range(31, -1, -1):  # Assume 32-bit integers\n",
    "            bit = (num >> i) & 1\n",
    "            if bit not in node.children:\n",
    "                node.children[bit] = TrieNode()\n",
    "            node = node.children[bit]\n",
    "    \n",
    "    def find_max_xor(self, num):\n",
    "        node = self.root\n",
    "        max_xor = 0\n",
    "        for i in range(31, -1, -1):\n",
    "            bit = (num >> i) & 1\n",
    "            toggle_bit = 1 - bit\n",
    "            if toggle_bit in node.children:\n",
    "                max_xor = (max_xor << 1) | 1\n",
    "                node = node.children[toggle_bit]\n",
    "            else:\n",
    "                max_xor = (max_xor << 1)\n",
    "                node = node.children[bit]\n",
    "        return max_xor\n",
    "\n",
    "def find_maximum_xor(nums):\n",
    "    if not nums:\n",
    "        return 0\n",
    "    \n",
    "    trie = Trie()\n",
    "    max_xor = 0\n",
    "    \n",
    "    # Insert the first number into the Trie\n",
    "    trie.insert(nums[0])\n",
    "    \n",
    "    for num in nums[1:]:\n",
    "        max_xor = max(max_xor, trie.find_max_xor(num))\n",
    "        trie.insert(num)\n",
    "    \n",
    "    return max_xor\n",
    "\n",
    "# Example usage\n",
    "nums = list(map(int, '4 6 7'.split()))\n",
    "print(find_maximum_xor(nums))  # Output: 28\n"
   ]
  }
 ],
 "metadata": {
  "kernelspec": {
   "display_name": "Python 3",
   "language": "python",
   "name": "python3"
  },
  "language_info": {
   "codemirror_mode": {
    "name": "ipython",
    "version": 3
   },
   "file_extension": ".py",
   "mimetype": "text/x-python",
   "name": "python",
   "nbconvert_exporter": "python",
   "pygments_lexer": "ipython3",
   "version": "3.12.1"
  }
 },
 "nbformat": 4,
 "nbformat_minor": 2
}
