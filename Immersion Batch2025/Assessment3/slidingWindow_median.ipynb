{
 "cells": [
  {
   "cell_type": "code",
   "execution_count": 8,
   "metadata": {},
   "outputs": [
    {
     "name": "stdout",
     "output_type": "stream",
     "text": [
      "[5, 15, 10, 20, 25]\n"
     ]
    }
   ],
   "source": [
    "import heapq\n",
    "\n",
    "class SlidingWindowMedian:\n",
    "    def __init__(self):\n",
    "        self.max_heap = []  # Max-heap for the smaller half\n",
    "        self.min_heap = []  # Min-heap for the larger half\n",
    "\n",
    "    def insert(self, num):\n",
    "        # Insert into max_heap (negative to simulate max-heap with min-heap)\n",
    "        heapq.heappush(self.max_heap, -num)\n",
    "        # Balance the heaps\n",
    "        heapq.heappush(self.min_heap, -heapq.heappop(self.max_heap))\n",
    "        # Ensure max_heap has the same size or one more element than min_heap\n",
    "        if len(self.max_heap) < len(self.min_heap):\n",
    "            heapq.heappush(self.max_heap, -heapq.heappop(self.min_heap))\n",
    "\n",
    "    def remove(self, num):\n",
    "        # Remove from the appropriate heap\n",
    "        if num <= -self.max_heap[0]:\n",
    "            self.max_heap.remove(-num)\n",
    "            heapq.heapify(self.max_heap)\n",
    "        else:\n",
    "            self.min_heap.remove(num)\n",
    "            heapq.heapify(self.min_heap)\n",
    "        # Balance the heaps\n",
    "        while len(self.max_heap) > len(self.min_heap) + 1:\n",
    "            heapq.heappush(self.min_heap, -heapq.heappop(self.max_heap))\n",
    "        while len(self.min_heap) > len(self.max_heap):\n",
    "            heapq.heappush(self.max_heap, -heapq.heappop(self.min_heap))\n",
    "\n",
    "    def get_median(self):\n",
    "        if len(self.max_heap) > len(self.min_heap):\n",
    "            return -self.max_heap[0]\n",
    "        return (-self.max_heap[0] + self.min_heap[0]) / 2\n",
    "\n",
    "def sliding_window_median(nums, k):\n",
    "    medians = []\n",
    "    window = SlidingWindowMedian()\n",
    "\n",
    "    for i in range(len(nums)):\n",
    "        window.insert(nums[i])\n",
    "        if i >= k - 1:\n",
    "            medians.append(window.get_median())\n",
    "            window.remove(nums[i - k + 1])\n",
    "    \n",
    "    return medians\n",
    "\n",
    "# Example Usage:\n",
    "nums1 = list(map(int,'5 15 10 20 25'.split()))\n",
    "k1 = 1\n",
    "print(sliding_window_median(nums1, k1))  # Output: [1.0, -1.0, -1.0, 3.0, 5.0, 6.0]\n",
    "\n",
    "# nums2 = [1, 2, 3, 4, 2, 3, 1, 4, 2]\n",
    "# k2 = 3\n",
    "# print(sliding_window_median(nums2, k2))  # Output: [2.0, 3.0, 3.0, 3.0, 2.0, 3.0, 2.0]\n"
   ]
  }
 ],
 "metadata": {
  "kernelspec": {
   "display_name": "Python 3",
   "language": "python",
   "name": "python3"
  },
  "language_info": {
   "codemirror_mode": {
    "name": "ipython",
    "version": 3
   },
   "file_extension": ".py",
   "mimetype": "text/x-python",
   "name": "python",
   "nbconvert_exporter": "python",
   "pygments_lexer": "ipython3",
   "version": "3.12.1"
  }
 },
 "nbformat": 4,
 "nbformat_minor": 2
}
