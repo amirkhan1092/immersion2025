{
 "cells": [
  {
   "cell_type": "code",
   "execution_count": 1,
   "metadata": {},
   "outputs": [
    {
     "name": "stdout",
     "output_type": "stream",
     "text": [
      "0.5\n",
      "2\n",
      "0.(012)\n",
      "-6.25\n",
      "-0.58(3)\n"
     ]
    }
   ],
   "source": [
    "def fraction_to_decimal(numerator, denominator):\n",
    "    if numerator == 0:\n",
    "        return \"0\"\n",
    "    \n",
    "    result = []\n",
    "    \n",
    "    # Determine the sign\n",
    "    if (numerator < 0) ^ (denominator < 0):\n",
    "        result.append(\"-\")\n",
    "    \n",
    "    # Work with absolute values to avoid issues with negative numbers\n",
    "    numerator = abs(numerator)\n",
    "    denominator = abs(denominator)\n",
    "    \n",
    "    # Handle the integer part\n",
    "    integer_part = numerator // denominator\n",
    "    result.append(str(integer_part))\n",
    "    \n",
    "    # Calculate the remainder\n",
    "    remainder = numerator % denominator\n",
    "    if remainder == 0:\n",
    "        return \"\".join(result)\n",
    "    \n",
    "    result.append(\".\")\n",
    "    \n",
    "    # Use a dictionary to store the index of the first occurrence of each remainder\n",
    "    remainder_index_map = {}\n",
    "    while remainder != 0:\n",
    "        # If the remainder is already seen, we found a repeating part\n",
    "        if remainder in remainder_index_map:\n",
    "            result.insert(remainder_index_map[remainder], \"(\")\n",
    "            result.append(\")\")\n",
    "            break\n",
    "        \n",
    "        # Store the index at which this remainder is seen\n",
    "        remainder_index_map[remainder] = len(result)\n",
    "        \n",
    "        # Calculate the next digit\n",
    "        remainder *= 10\n",
    "        next_digit = remainder // denominator\n",
    "        result.append(str(next_digit))\n",
    "        \n",
    "        # Update the remainder\n",
    "        remainder %= denominator\n",
    "    \n",
    "    return \"\".join(result)\n",
    "\n",
    "# Example Usage\n",
    "print(fraction_to_decimal(1, 2))  # Output: \"0.5\"\n",
    "print(fraction_to_decimal(2, 1))  # Output: \"2\"\n",
    "print(fraction_to_decimal(4, 333))  # Output: \"0.(012)\"\n",
    "print(fraction_to_decimal(-50, 8))  # Output: \"-6.25\"\n",
    "print(fraction_to_decimal(7, -12))  # Output: \"-0.58(3)\"\n"
   ]
  },
  {
   "cell_type": "code",
   "execution_count": 2,
   "metadata": {},
   "outputs": [
    {
     "name": "stdout",
     "output_type": "stream",
     "text": [
      "10 33\n",
      "\"0.(30)\"\n"
     ]
    }
   ],
   "source": [
    "class Solution:\n",
    "    def fractionToDecimal(self, numerator: int, denominator: int) -> str:\n",
    "        if numerator == 0:\n",
    "            return \"0\"\n",
    "\n",
    "        fraction = []\n",
    "        if (numerator < 0) != (denominator < 0):\n",
    "            fraction.append(\"-\")\n",
    "\n",
    "        dividend = abs(numerator)\n",
    "        divisor = abs(denominator)\n",
    "\n",
    "        fraction.append(str(dividend // divisor))\n",
    "        remainder = dividend % divisor\n",
    "        if remainder == 0:\n",
    "            return \"\".join(fraction)\n",
    "\n",
    "        fraction.append(\".\")\n",
    "        lookup = {}\n",
    "        while remainder != 0:\n",
    "            if remainder in lookup:\n",
    "                fraction.insert(lookup[remainder], \"(\")\n",
    "                fraction.append(\")\")\n",
    "                break\n",
    "\n",
    "            lookup[remainder] = len(fraction)\n",
    "            remainder *= 10\n",
    "            fraction.append(str(remainder // divisor))\n",
    "            remainder %= divisor\n",
    "\n",
    "        return \"\".join(fraction)\n",
    "    \n",
    "obj = Solution()\n",
    "x = '10 33'\n",
    "print(x)\n",
    "n, d = list(map(int, x.split()))\n",
    "print(f'\"{obj.fractionToDecimal(n, d)}\"')\n"
   ]
  }
 ],
 "metadata": {
  "kernelspec": {
   "display_name": "Python 3",
   "language": "python",
   "name": "python3"
  },
  "language_info": {
   "codemirror_mode": {
    "name": "ipython",
    "version": 3
   },
   "file_extension": ".py",
   "mimetype": "text/x-python",
   "name": "python",
   "nbconvert_exporter": "python",
   "pygments_lexer": "ipython3",
   "version": "3.12.1"
  }
 },
 "nbformat": 4,
 "nbformat_minor": 2
}
