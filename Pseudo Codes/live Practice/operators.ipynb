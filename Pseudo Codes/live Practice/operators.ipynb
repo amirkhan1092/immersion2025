{
 "cells": [
  {
   "cell_type": "markdown",
   "metadata": {},
   "source": [
    "### **Basic Structure of Pseudo Code**\n",
    "\n",
    "Pseudo-code is a plain-language way to describe algorithms and processes without strict syntax. The goal is to focus on **logic** rather than implementation.\n",
    "\n",
    "#### Example Structure:\n",
    "```plaintext\n",
    "BEGIN\n",
    "    Read Input\n",
    "    Process Data\n",
    "    Output Result\n",
    "END\n",
    "```"
   ]
  },
  {
   "cell_type": "markdown",
   "metadata": {},
   "source": [
    "#### Key Points to Remember: \n",
    "```plaintext\n",
    "    - Higher precedence operators are evaluated before lower precedence operators. \n",
    "    - Associalvity determines the order of evalualon when operators of the same precedence appear in an expression. \n",
    "        o Len-to-Right Associalvity: Operators are evaluated from the lenmost side. \n",
    "        o Right-to-Len Associalvity: Operators are evaluated from the rightmost side. \n",
    "    - Parentheses () can be used to override precedence and force the evalualon order you desire. \n",
    "```\n",
    "**Operator Categories:** \n",
    "```plaintext\n",
    "    • Arithmelc Operators: +, -, *, /, % \n",
    "    • Logical Operators: &&, ||, ! \n",
    "    • Bitwise Operators: &, |, ^, ~, <<, >> \n",
    "    • Relalonal Operators: <, <=, >, >=, ==, != \n",
    "    • Assignment Operators: =, +=, -=, *=, etc. \n",
    "    • Condilonal Operators: ? : \n",
    "```"
   ]
  },
  {
   "cell_type": "code",
   "execution_count": null,
   "metadata": {},
   "outputs": [],
   "source": [
    "# Arithmatic Operators \n"
   ]
  },
  {
   "cell_type": "markdown",
   "metadata": {},
   "source": [
    "# Modulo % Operator\n",
    "```pseudo\n",
    "n = 20\n",
    "if n mod 1 = 0 then \n",
    "    value1 = x\n",
    "    value2 = x\n",
    "else \n",
    "    value1 = x - (x mod 1) + 1\n",
    "    value2 = x - (x mod 1)\n",
    "\n",
    "end if\n",
    "print value1\n",
    "print value2\n",
    "```"
   ]
  },
  {
   "cell_type": "markdown",
   "metadata": {},
   "source": [
    "# Count pairs of values\n",
    "```pseudo\n",
    "n = 2000\n",
    "n = n - 100\n",
    "c2k = n div 2000\n",
    "n = n mod 2000\n",
    "c5h = n div 500\n",
    "n = n mod 500\n",
    "c2h = n div 200\n",
    "n = n mod 200\n",
    "c1h = n div 100 + 1\n",
    "print c2k, c5h, c2h, c1h\n",
    "\n",
    "a) 1 0 0 0\n",
    "b) 0 3 2 1\n",
    "c) 0 4 0 0\n",
    "d) 1 4 10 20"
   ]
  },
  {
   "cell_type": "markdown",
   "metadata": {},
   "source": [
    "\n",
    "```"
   ]
  }
 ],
 "metadata": {
  "language_info": {
   "name": "python"
  }
 },
 "nbformat": 4,
 "nbformat_minor": 2
}
