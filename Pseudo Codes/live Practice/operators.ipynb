{
 "cells": [
  {
   "cell_type": "markdown",
   "metadata": {},
   "source": [
    "### **Basic Structure of Pseudo Code**\n",
    "\n",
    "Pseudo-code is a plain-language way to describe algorithms and processes without strict syntax. The goal is to focus on **logic** rather than implementation.\n",
    "\n",
    "#### Example Structure:\n",
    "```plaintext\n",
    "BEGIN\n",
    "    Read Input\n",
    "    Process Data\n",
    "    Output Result\n",
    "END\n",
    "```"
   ]
  },
  {
   "cell_type": "markdown",
   "metadata": {},
   "source": [
    "#### Key Points to Remember: \n",
    "```plaintext\n",
    "    - Higher precedence operators are evaluated before lower precedence operators. \n",
    "    - Associalvity determines the order of evalualon when operators of the same precedence appear in an expression. \n",
    "        o Len-to-Right Associalvity: Operators are evaluated from the lenmost side. \n",
    "        o Right-to-Len Associalvity: Operators are evaluated from the rightmost side. \n",
    "    - Parentheses () can be used to override precedence and force the evalualon order you desire. \n",
    "```\n",
    "**Operator Categories:** \n",
    "```plaintext\n",
    "    • Arithmelc Operators: +, -, *, /, % \n",
    "    • Logical Operators: &&, ||, ! \n",
    "    • Bitwise Operators: &, |, ^, ~, <<, >> \n",
    "    • Relalonal Operators: <, <=, >, >=, ==, != \n",
    "    • Assignment Operators: =, +=, -=, *=, etc. \n",
    "    • Condilonal Operators: ? : \n",
    "```"
   ]
  },
  {
   "cell_type": "code",
   "execution_count": null,
   "metadata": {},
   "outputs": [],
   "source": [
    "# Arithmatic Operators \n"
   ]
  },
  {
   "cell_type": "markdown",
   "metadata": {},
   "source": [
    "\n",
    "```"
   ]
  }
 ],
 "metadata": {
  "language_info": {
   "name": "python"
  }
 },
 "nbformat": 4,
 "nbformat_minor": 2
}
