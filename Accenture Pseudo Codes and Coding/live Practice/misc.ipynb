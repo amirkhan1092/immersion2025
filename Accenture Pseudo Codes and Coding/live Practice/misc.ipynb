{
 "cells": [
  {
   "cell_type": "code",
   "execution_count": null,
   "metadata": {},
   "outputs": [],
   "source": []
  },
  {
   "cell_type": "markdown",
   "metadata": {},
   "source": [
    "### What will be the value of s, if n=127?\n",
    "\n",
    "```python\n",
    "Read n\n",
    "i=0,s=0\n",
    "Function Sample(int n)\n",
    "    while(n>0)\n",
    "        r=n%10\n",
    "        p=8^i\n",
    "        s=s+p*r\n",
    "        i++\n",
    "        n=n/10\n",
    "    End While\n",
    "    Return s\n",
    "End Function\n",
    "```"
   ]
  }
 ],
 "metadata": {
  "language_info": {
   "name": "python"
  }
 },
 "nbformat": 4,
 "nbformat_minor": 2
}
