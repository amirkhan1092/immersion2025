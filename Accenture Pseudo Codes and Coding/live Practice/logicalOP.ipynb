{
 "cells": [
  {
   "cell_type": "code",
   "execution_count": 1,
   "metadata": {},
   "outputs": [],
   "source": [
    "# and or not (&& || !)"
   ]
  },
  {
   "cell_type": "markdown",
   "metadata": {},
   "source": [
    "### Division is never evaluated, because the first argument is True\n",
    "    lazy_or = True or (1 / 0)  # True\n",
    "\n",
    "### Division is never evaluated, because the first argument is False\n",
    "    lazy_and = False and (1 / 0)  # False"
   ]
  },
  {
   "cell_type": "code",
   "execution_count": null,
   "metadata": {},
   "outputs": [],
   "source": []
  },
  {
   "cell_type": "markdown",
   "metadata": {},
   "source": [
    "### what will be the output of following pseudo code?\n",
    "```pseudo\n",
    "Integer val\n",
    "val = 1902\n",
    "exp = val mod 4 = 0 and val mod 100 != 0 or val mod 400 = 0\n",
    "print exp ? \"Lucky\" : \"Unlucky\"\n",
    "```"
   ]
  }
 ],
 "metadata": {
  "kernelspec": {
   "display_name": "Python 3",
   "language": "python",
   "name": "python3"
  },
  "language_info": {
   "codemirror_mode": {
    "name": "ipython",
    "version": 3
   },
   "file_extension": ".py",
   "mimetype": "text/x-python",
   "name": "python",
   "nbconvert_exporter": "python",
   "pygments_lexer": "ipython3",
   "version": "3.12.1"
  }
 },
 "nbformat": 4,
 "nbformat_minor": 2
}
