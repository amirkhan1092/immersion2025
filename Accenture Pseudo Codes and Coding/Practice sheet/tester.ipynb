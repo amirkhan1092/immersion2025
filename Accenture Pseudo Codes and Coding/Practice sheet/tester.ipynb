{
 "cells": [
  {
   "cell_type": "code",
   "execution_count": null,
   "metadata": {},
   "outputs": [],
   "source": []
  },
  {
   "cell_type": "markdown",
   "metadata": {},
   "source": [
    "Modulo arithmetic is like a mathematical clock that keeps repeating itself. It allows us to work with numbers in a cyclical fashion, giving us valuable insights and tools for solving various problems\n",
    "```pseudo\n",
    "x = 9.3\n",
    "if x mod 1 = 0 then\n",
    "    ceil_val = x\n",
    "    floor_val = x\n",
    "else\n",
    "    ceil_val = x - (x mod 1) + 1\n",
    "    floor_val = x - (x mod 1)\n",
    "end if\n",
    "// What are the values of ceil_val and floor_val for x = 9.3?\n",
    "```"
   ]
  },
  {
   "cell_type": "code",
   "execution_count": 16,
   "metadata": {},
   "outputs": [
    {
     "name": "stdout",
     "output_type": "stream",
     "text": [
      "ceil_val=-3.0\n",
      "floor_val=-4.0\n"
     ]
    }
   ],
   "source": [
    "x = -3.2\n",
    "if x % 1 == 0:\n",
    "    ceil_val = x\n",
    "    floor_val = x\n",
    "else:\n",
    "    ceil_val = x - (x % 1) + 1\n",
    "    floor_val = x - (x % 1)\n",
    "\n",
    "print(f'{ceil_val=}')\n",
    "print(f'{floor_val=}')\n",
    "# // What are the values of ceil_val and floor_val for x = 9.3?"
   ]
  },
  {
   "cell_type": "code",
   "execution_count": 21,
   "metadata": {},
   "outputs": [
    {
     "data": {
      "text/plain": [
       "1.9999999999242846e-05"
      ]
     },
     "execution_count": 21,
     "metadata": {},
     "output_type": "execute_result"
    }
   ],
   "source": [
    "-3.2 - (.2) + 1\n",
    "-3.2 - .2 + 1\n",
    "-3.4 + 1\n"
   ]
  },
  {
   "cell_type": "code",
   "execution_count": 45,
   "metadata": {},
   "outputs": [
    {
     "data": {
      "text/plain": [
       "-2"
      ]
     },
     "execution_count": 45,
     "metadata": {},
     "output_type": "execute_result"
    }
   ],
   "source": []
  },
  {
   "cell_type": "code",
   "execution_count": 50,
   "metadata": {},
   "outputs": [
    {
     "name": "stdout",
     "output_type": "stream",
     "text": [
      "0.7999999999999998\n"
     ]
    }
   ],
   "source": [
    "a = -3.2\n",
    "b = 1\n",
    "exp = a % b\n",
    "print(exp)"
   ]
  },
  {
   "cell_type": "code",
   "execution_count": 29,
   "metadata": {},
   "outputs": [
    {
     "name": "stdout",
     "output_type": "stream",
     "text": [
      "0\n"
     ]
    }
   ],
   "source": [
    "exp = a % b\n",
    "print(exp)"
   ]
  },
  {
   "cell_type": "code",
   "execution_count": null,
   "metadata": {},
   "outputs": [],
   "source": [
    "# Program to find the number of tiles count in a given rectangle dimension room \n",
    "% \n",
    "'''\n",
    "= a % b\n",
    "= a - (b * floor(a/b))\n",
    "\n",
    "= -10 - (3 * -4))\n",
    "= -10 - (-12)\n",
    "= 2\n",
    "\n",
    "(-10 % 3)+3\n",
    "(-10 % 3)+3\n",
    "(-1)+3\n",
    "2\n",
    "\n",
    "\n",
    "\n",
    "10 - (3 * 3)\n",
    "1\n",
    "'''"
   ]
  },
  {
   "cell_type": "code",
   "execution_count": 5,
   "metadata": {},
   "outputs": [
    {
     "name": "stdout",
     "output_type": "stream",
     "text": [
      "3\n"
     ]
    }
   ],
   "source": [
    "area_floor = 9\n",
    "area_tile = 3\n",
    "c = -(-area_floor div area_tile)\n",
    "print(c) "
   ]
  },
  {
   "cell_type": "code",
   "execution_count": null,
   "metadata": {},
   "outputs": [],
   "source": []
  },
  {
   "cell_type": "code",
   "execution_count": 2,
   "metadata": {},
   "outputs": [
    {
     "name": "stdout",
     "output_type": "stream",
     "text": [
      "-4.0\n"
     ]
    }
   ],
   "source": [
    "a = -3.5\n",
    "out = a // 1\n",
    "print(out)"
   ]
  }
 ],
 "metadata": {
  "kernelspec": {
   "display_name": "Python 3",
   "language": "python",
   "name": "python3"
  },
  "language_info": {
   "codemirror_mode": {
    "name": "ipython",
    "version": 3
   },
   "file_extension": ".py",
   "mimetype": "text/x-python",
   "name": "python",
   "nbconvert_exporter": "python",
   "pygments_lexer": "ipython3",
   "version": "3.12.1"
  }
 },
 "nbformat": 4,
 "nbformat_minor": 2
}
