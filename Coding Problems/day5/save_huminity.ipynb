{
 "cells": [
  {
   "cell_type": "code",
   "execution_count": null,
   "metadata": {},
   "outputs": [],
   "source": [
    "def virusIndices(p, v):\n",
    "    len_p = len(p)\n",
    "    len_v = len(v)\n",
    "    matches = []\n",
    "    \n",
    "    for i in range(len_p - len_v + 1):\n",
    "        substring = p[i:i+len_v]\n",
    "        mismatch_count = 0\n",
    "        for j in range(len_v):\n",
    "            if substring[j] != v[j]:\n",
    "                mismatch_count += 1\n",
    "                if mismatch_count > 1:\n",
    "                    break\n",
    "        if mismatch_count <= 1:\n",
    "            matches.append(i)\n",
    "    \n",
    "    if matches:\n",
    "        print(\" \".join(map(str, matches)))\n",
    "    else:\n",
    "        print(\"No Match!\")\n",
    "\n",
    "if __name__ == '__main__':\n",
    "    t = int(input().strip())\n",
    "\n",
    "    for t_itr in range(t):\n",
    "        first_multiple_input = input().rstrip().split()\n",
    "        p = first_multiple_input[0]\n",
    "        v = first_multiple_input[1]\n",
    "        virusIndices(p, v)\n"
   ]
  }
 ],
 "metadata": {
  "language_info": {
   "name": "python"
  }
 },
 "nbformat": 4,
 "nbformat_minor": 2
}
