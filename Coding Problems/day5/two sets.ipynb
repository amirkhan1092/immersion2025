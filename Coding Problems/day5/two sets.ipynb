{
 "cells": [
  {
   "cell_type": "code",
   "execution_count": 1,
   "metadata": {},
   "outputs": [
    {
     "name": "stdout",
     "output_type": "stream",
     "text": [
      "3\n"
     ]
    }
   ],
   "source": [
    "n, m = map(int, input().split())\n",
    "a = list(map(int, input().split()))\n",
    "b = list(map(int, input().split()))\n",
    "print(sum(all(i % x == 0 for x in a) and all(x % i == 0 for x in b) for i in range(1, 101)))"
   ]
  },
  {
   "cell_type": "code",
   "execution_count": 8,
   "metadata": {},
   "outputs": [
    {
     "name": "stdout",
     "output_type": "stream",
     "text": [
      "['2 3', '2 4', '16 32 96']\n",
      "3\n"
     ]
    }
   ],
   "source": [
    "data = '''\n",
    "2 3\n",
    "2 4\n",
    "16 32 96\n",
    "'''\n",
    "\n",
    "print(data.strip().split('\\n'))\n",
    "x = data.strip().split('\\n')\n",
    "n, m = map(int, x[0].split())\n",
    "a = list(map(int, x[1].split()))\n",
    "b = list(map(int, x[2].split()))\n",
    "print(sum(all(i % x == 0 for x in a) and all(x % i == 0 for x in b) for i in range(1, 101)))"
   ]
  }
 ],
 "metadata": {
  "kernelspec": {
   "display_name": "Python 3",
   "language": "python",
   "name": "python3"
  },
  "language_info": {
   "codemirror_mode": {
    "name": "ipython",
    "version": 3
   },
   "file_extension": ".py",
   "mimetype": "text/x-python",
   "name": "python",
   "nbconvert_exporter": "python",
   "pygments_lexer": "ipython3",
   "version": "3.12.1"
  }
 },
 "nbformat": 4,
 "nbformat_minor": 2
}
