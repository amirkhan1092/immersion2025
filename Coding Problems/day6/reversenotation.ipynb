{
 "cells": [
  {
   "cell_type": "code",
   "execution_count": 15,
   "metadata": {},
   "outputs": [
    {
     "name": "stdout",
     "output_type": "stream",
     "text": [
      "['10', '2', '8', '2', '*', '+', '-']\n",
      "7 -8\n"
     ]
    }
   ],
   "source": [
    "def evalRPN(tokens):\n",
    "    stack = []\n",
    "    for token in tokens:\n",
    "        if token not in \"+-*/\":\n",
    "            stack.append(int(token))\n",
    "        else:\n",
    "            b = stack.pop()\n",
    "            a = stack.pop()\n",
    "            if token == '+':\n",
    "                stack.append(a + b)\n",
    "            elif token == '-':\n",
    "                stack.append(a - b)\n",
    "            elif token == '*':\n",
    "                stack.append(a * b)\n",
    "            elif token == '/':\n",
    "                # Ensure integer division truncates towards zero\n",
    "                stack.append(int(a / b))\n",
    "    return stack[0]\n",
    "\n",
    "# Example Usage\n",
    "\n",
    "data = '''\n",
    "7 \n",
    "10 2 8 2 * + -\n",
    "'''\n",
    "data = data.strip().split('\\n')\n",
    "# print(data[1].split())\n",
    "exp = data[1].split()\n",
    "print(exp)\n",
    "print(len(exp), evalRPN(exp))\n",
    "\n",
    "# tokens1 = ['2', '1', '+', '3', '*']\n",
    "# tokens2 = ['4', '13', '5', '/', '+']\n",
    "# tokens3 = ['10', '6', '9', '3', '+', '-11', '*', '/', '*']\n",
    "\n",
    "# print(evalRPN(tokens1))  # Output: 9\n",
    "# print(evalRPN(tokens2))  # Output: 6\n",
    "# print(evalRPN(tokens3))  # Output: 22\n"
   ]
  }
 ],
 "metadata": {
  "kernelspec": {
   "display_name": "Python 3",
   "language": "python",
   "name": "python3"
  },
  "language_info": {
   "codemirror_mode": {
    "name": "ipython",
    "version": 3
   },
   "file_extension": ".py",
   "mimetype": "text/x-python",
   "name": "python",
   "nbconvert_exporter": "python",
   "pygments_lexer": "ipython3",
   "version": "3.12.1"
  }
 },
 "nbformat": 4,
 "nbformat_minor": 2
}
