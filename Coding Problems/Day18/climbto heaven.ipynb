{
 "cells": [
  {
   "cell_type": "code",
   "execution_count": 4,
   "metadata": {},
   "outputs": [
    {
     "name": "stdout",
     "output_type": "stream",
     "text": [
      "1836311903\n"
     ]
    }
   ],
   "source": [
    "def stairs_of_heaven(n):\n",
    "    if n == 0:\n",
    "        return 1\n",
    "    if n == 1:\n",
    "        return 1\n",
    "    \n",
    "    ways = [0] * (n + 1)\n",
    "    ways[0] = 1\n",
    "    ways[1] = 1\n",
    "    \n",
    "    for i in range(2, n + 1):\n",
    "        ways[i] = ways[i - 1] + ways[i - 2]\n",
    "    \n",
    "    return ways[n]\n",
    "\n",
    "# Input\n",
    "n = 45\n",
    "\n",
    "# Output\n",
    "print(stairs_of_heaven(n))\n"
   ]
  }
 ],
 "metadata": {
  "kernelspec": {
   "display_name": "Python 3",
   "language": "python",
   "name": "python3"
  },
  "language_info": {
   "codemirror_mode": {
    "name": "ipython",
    "version": 3
   },
   "file_extension": ".py",
   "mimetype": "text/x-python",
   "name": "python",
   "nbconvert_exporter": "python",
   "pygments_lexer": "ipython3",
   "version": "3.12.1"
  }
 },
 "nbformat": 4,
 "nbformat_minor": 2
}
