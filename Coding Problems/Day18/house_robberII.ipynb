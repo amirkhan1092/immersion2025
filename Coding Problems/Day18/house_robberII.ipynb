{
 "cells": [
  {
   "cell_type": "code",
   "execution_count": 5,
   "metadata": {},
   "outputs": [
    {
     "name": "stdout",
     "output_type": "stream",
     "text": [
      "1\n",
      "0\n"
     ]
    }
   ],
   "source": [
    "def rob(nums):\n",
    "    def rob_linear(houses):\n",
    "        prev, curr = 0, 0\n",
    "        for money in houses:\n",
    "            prev, curr = curr, max(curr, prev + money)\n",
    "        return curr\n",
    "    \n",
    "    n = len(nums)\n",
    "    if n == 1:\n",
    "        return nums[0]\n",
    "    return max(rob_linear(nums[1:]), rob_linear(nums[:-1]))\n",
    "\n",
    "# Input\n",
    "data = '''\n",
    "1\n",
    "0\n",
    "\n",
    "\n",
    "'''.strip().split('\\n')\n",
    "n = int(data[0].strip())\n",
    "nums = list(map(int, data[1].strip().split()))\n",
    "print(len(nums))\n",
    "# Output\n",
    "print(rob(nums))\n"
   ]
  }
 ],
 "metadata": {
  "kernelspec": {
   "display_name": "Python 3",
   "language": "python",
   "name": "python3"
  },
  "language_info": {
   "codemirror_mode": {
    "name": "ipython",
    "version": 3
   },
   "file_extension": ".py",
   "mimetype": "text/x-python",
   "name": "python",
   "nbconvert_exporter": "python",
   "pygments_lexer": "ipython3",
   "version": "3.12.1"
  }
 },
 "nbformat": 4,
 "nbformat_minor": 2
}
