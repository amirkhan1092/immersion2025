{
 "cells": [
  {
   "cell_type": "code",
   "execution_count": 5,
   "metadata": {},
   "outputs": [
    {
     "name": "stdout",
     "output_type": "stream",
     "text": [
      "1\n"
     ]
    }
   ],
   "source": [
    "def k_empty_slots(bulbs, k):\n",
    "    n = len(bulbs)\n",
    "    days = [0] * n\n",
    "\n",
    "    for i in range(n):\n",
    "        days[bulbs[i] - 1] = i + 1\n",
    "\n",
    "    left, right = 0, k + 1\n",
    "    result = float('inf')\n",
    "\n",
    "    while right < n:\n",
    "        valid = True\n",
    "        for i in range(left + 1, right):\n",
    "            if days[i] < max(days[left], days[right]):\n",
    "                left, right = i, i + k + 1\n",
    "                valid = False\n",
    "                break\n",
    "        if valid:\n",
    "            result = min(result, max(days[left], days[right]))\n",
    "            left, right = right, right + k + 1\n",
    "\n",
    "    return result if result != float('inf') else -1\n",
    "\n",
    "# Example Usage\n",
    "bulbs1 = list(map(int, '6 5 4 3 2 3 5'.split()))\n",
    "k1 = 0\n",
    "print(k_empty_slots(bulbs1, k1))  # Output: 2\n",
    "\n",
    "# bulbs2 = [1, 2, 3]\n",
    "# k2 = 1\n",
    "# print(k_empty_slots(bulbs2, k2))  # Output: -1\n"
   ]
  }
 ],
 "metadata": {
  "kernelspec": {
   "display_name": "Python 3",
   "language": "python",
   "name": "python3"
  },
  "language_info": {
   "codemirror_mode": {
    "name": "ipython",
    "version": 3
   },
   "file_extension": ".py",
   "mimetype": "text/x-python",
   "name": "python",
   "nbconvert_exporter": "python",
   "pygments_lexer": "ipython3",
   "version": "3.12.1"
  }
 },
 "nbformat": 4,
 "nbformat_minor": 2
}
