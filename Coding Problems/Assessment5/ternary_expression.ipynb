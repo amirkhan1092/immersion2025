{
 "cells": [
  {
   "cell_type": "code",
   "execution_count": 18,
   "metadata": {},
   "outputs": [
    {
     "name": "stdout",
     "output_type": "stream",
     "text": [
      "9\n"
     ]
    }
   ],
   "source": [
    "class Solution:\n",
    "    def parseTernary(self, expression):\n",
    "        st = []\n",
    "        for c in expression[::-1]:\n",
    "            st.append(c)\n",
    "            if len(st) >= 2 and st[-2] == '?':\n",
    "                boolean, _, t, _, f = st.pop(), st.pop(), st.pop(), st.pop(), st.pop()\n",
    "                st.append(t if boolean =='T' else f)\n",
    "        return st[0]\n",
    "obj = Solution()\n",
    "data = 'F?1:6?2:9'\n",
    "\n",
    "print(obj.parseTernary(data))"
   ]
  }
 ],
 "metadata": {
  "kernelspec": {
   "display_name": "Python 3",
   "language": "python",
   "name": "python3"
  },
  "language_info": {
   "codemirror_mode": {
    "name": "ipython",
    "version": 3
   },
   "file_extension": ".py",
   "mimetype": "text/x-python",
   "name": "python",
   "nbconvert_exporter": "python",
   "pygments_lexer": "ipython3",
   "version": "3.12.1"
  }
 },
 "nbformat": 4,
 "nbformat_minor": 2
}
