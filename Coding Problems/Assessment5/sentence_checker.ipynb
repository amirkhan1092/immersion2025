{
 "cells": [
  {
   "cell_type": "code",
   "execution_count": 16,
   "metadata": {},
   "outputs": [
    {
     "name": "stdout",
     "output_type": "stream",
     "text": [
      "H .\n"
     ]
    }
   ],
   "source": [
    "def is_valid_sentence(sentence):\n",
    "    if not sentence:\n",
    "        return False\n",
    "    if not (sentence[0].isupper() and (len(sentence) == 1 or sentence[1].islower() or sentence[1] == ' ')):\n",
    "        return False\n",
    "    if not (sentence[-1] in '.?!‽'):\n",
    "        return False\n",
    "\n",
    "    prev_char = sentence[0]\n",
    "    for i in range(1, len(sentence)):\n",
    "        if sentence[i] == ' ':\n",
    "            if prev_char == ' ':\n",
    "                return False\n",
    "        elif not (sentence[i].islower() or sentence[i] in ',;:?.!‽'):\n",
    "            return False\n",
    "        prev_char = sentence[i]\n",
    "    \n",
    "    return True\n",
    "\n",
    "def check_sentences(stream):\n",
    "    sentences = []\n",
    "    start = 0\n",
    "    for i in range(len(stream)):\n",
    "        if stream[i] in '.?!‽':\n",
    "            sentence = stream[start:i+1].strip()\n",
    "            if is_valid_sentence(sentence):\n",
    "                sentences.append(sentence)\n",
    "            start = i + 1\n",
    "    return sentences\n",
    "\n",
    "# Example Usage\n",
    "s = 'H .'\n",
    "# s = input().strip()\n",
    "valid_sentences = check_sentences(s)\n",
    "for sentence in valid_sentences:\n",
    "    print(sentence)\n"
   ]
  }
 ],
 "metadata": {
  "kernelspec": {
   "display_name": "Python 3",
   "language": "python",
   "name": "python3"
  },
  "language_info": {
   "codemirror_mode": {
    "name": "ipython",
    "version": 3
   },
   "file_extension": ".py",
   "mimetype": "text/x-python",
   "name": "python",
   "nbconvert_exporter": "python",
   "pygments_lexer": "ipython3",
   "version": "3.12.1"
  }
 },
 "nbformat": 4,
 "nbformat_minor": 2
}
