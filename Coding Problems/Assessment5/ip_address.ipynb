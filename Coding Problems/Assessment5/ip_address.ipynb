{
 "cells": [
  {
   "cell_type": "code",
   "execution_count": 8,
   "metadata": {},
   "outputs": [
    {
     "name": "stdout",
     "output_type": "stream",
     "text": [
      "1.0.1.1\n"
     ]
    }
   ],
   "source": [
    "def restoreIpAddresses(s):\n",
    "    def backtrack(start, path):\n",
    "        if len(path) == 4:\n",
    "            if start == len(s):\n",
    "                result.append(\".\".join(path))\n",
    "            return\n",
    "        for length in range(1, 4):\n",
    "            if start + length > len(s):\n",
    "                break\n",
    "            segment = s[start:start + length]\n",
    "            if (segment[0] == '0' and len(segment) > 1) or (length == 3 and int(segment) > 255):\n",
    "                continue\n",
    "            backtrack(start + length, path + [segment])\n",
    "\n",
    "    result = []\n",
    "    backtrack(0, [])\n",
    "    result.sort()  # Sort the result lexicographically\n",
    "    return result\n",
    "\n",
    "# Example Usage\n",
    "s = '1011'\n",
    "# s = input().strip()\n",
    "result = restoreIpAddresses(s)\n",
    "for ip in result:\n",
    "    print(ip)\n"
   ]
  }
 ],
 "metadata": {
  "kernelspec": {
   "display_name": "Python 3",
   "language": "python",
   "name": "python3"
  },
  "language_info": {
   "codemirror_mode": {
    "name": "ipython",
    "version": 3
   },
   "file_extension": ".py",
   "mimetype": "text/x-python",
   "name": "python",
   "nbconvert_exporter": "python",
   "pygments_lexer": "ipython3",
   "version": "3.12.1"
  }
 },
 "nbformat": 4,
 "nbformat_minor": 2
}
