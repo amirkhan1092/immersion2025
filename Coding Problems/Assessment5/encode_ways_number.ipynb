{
 "cells": [
  {
   "cell_type": "code",
   "execution_count": 10,
   "metadata": {},
   "outputs": [
    {
     "name": "stdout",
     "output_type": "stream",
     "text": [
      "20862\n"
     ]
    }
   ],
   "source": [
    "class Solution:\n",
    "    def numDecodings(self, s: str) -> int:\n",
    "        mapping = dict(zip(map(str, range(1, 27)), [1]*26))\n",
    "        mapping[\"1*\"] = 9\n",
    "        mapping[\"2*\"] = 6\n",
    "        mapping[\"*\"] = 9\n",
    "        mapping[\"**\"] = 15\n",
    "        dp = [0]*(len(s)+1)\n",
    "        dp[len(s)] = 1\n",
    "        dp[len(s)-1] = mapping[s[len(s)-1]] if s[len(s)-1] != \"0\" else 0\n",
    "        mod = 10**9+7\n",
    "        for i in reversed(range(len(s)-1)):\n",
    "            if s[i] in mapping:\n",
    "                dp[i] += (mapping[s[i]]*dp[i+1])%mod\n",
    "            if i < len(s)-1:\n",
    "                key = s[i:i+2]\n",
    "                if key in mapping:\n",
    "                    dp[i] += (mapping[key]*dp[i+2])%mod\n",
    "                elif s[i] == \"*\":\n",
    "                    if s[i+1] <= \"6\":\n",
    "                        dp[i] += (2*dp[i+2])%mod\n",
    "                    else:\n",
    "                        dp[i] += dp[i+2]%mod\n",
    "        return dp[0]%(mod)\n",
    "    \n",
    "obj = Solution()\n",
    "data = '2277****'\n",
    "print(obj.numDecodings(data))          "
   ]
  }
 ],
 "metadata": {
  "kernelspec": {
   "display_name": "Python 3",
   "language": "python",
   "name": "python3"
  },
  "language_info": {
   "codemirror_mode": {
    "name": "ipython",
    "version": 3
   },
   "file_extension": ".py",
   "mimetype": "text/x-python",
   "name": "python",
   "nbconvert_exporter": "python",
   "pygments_lexer": "ipython3",
   "version": "3.12.1"
  }
 },
 "nbformat": 4,
 "nbformat_minor": 2
}
