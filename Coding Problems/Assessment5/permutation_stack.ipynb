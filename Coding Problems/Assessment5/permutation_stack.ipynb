{
 "cells": [
  {
   "cell_type": "code",
   "execution_count": 6,
   "metadata": {},
   "outputs": [
    {
     "name": "stdout",
     "output_type": "stream",
     "text": [
      "[2, 1, 3, 5, 4]\n"
     ]
    }
   ],
   "source": [
    "class Solution(object):\n",
    "    def findPermutation(self, s):\n",
    "        \"\"\"\n",
    "        :type s: str\n",
    "        :rtype: List[int]\n",
    "        \"\"\"\n",
    "        \n",
    "        l = len(s)\n",
    "        stack,res = [],[]\n",
    "        for i in range (l):\n",
    "            cur_num = i+1\n",
    "            if s[i] == 'D':\n",
    "                stack.append(cur_num)\n",
    "            if s[i] == 'I':\n",
    "                stack.append(cur_num)\n",
    "                while stack:\n",
    "                    res.append(stack.pop())\n",
    "        # last digit\n",
    "        res.append(l+1)\n",
    "        while stack:\n",
    "            res.append(stack.pop())\n",
    "            \n",
    "        return res\n",
    "data = 'DIID'\n",
    "obj = Solution()\n",
    "print(obj.findPermutation(data))"
   ]
  }
 ],
 "metadata": {
  "kernelspec": {
   "display_name": "Python 3",
   "language": "python",
   "name": "python3"
  },
  "language_info": {
   "codemirror_mode": {
    "name": "ipython",
    "version": 3
   },
   "file_extension": ".py",
   "mimetype": "text/x-python",
   "name": "python",
   "nbconvert_exporter": "python",
   "pygments_lexer": "ipython3",
   "version": "3.12.1"
  }
 },
 "nbformat": 4,
 "nbformat_minor": 2
}
