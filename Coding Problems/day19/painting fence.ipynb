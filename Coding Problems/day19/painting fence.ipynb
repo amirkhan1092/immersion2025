{
 "cells": [
  {
   "cell_type": "code",
   "execution_count": 6,
   "metadata": {},
   "outputs": [
    {
     "name": "stdout",
     "output_type": "stream",
     "text": [
      "27408\n"
     ]
    }
   ],
   "source": [
    "def countWays(n, k):\n",
    "    if n == 0:\n",
    "        return 0\n",
    "    if n == 1:\n",
    "        return k\n",
    "\n",
    "    same = [0] * (n + 1)\n",
    "    diff = [0] * (n + 1)\n",
    "\n",
    "    same[1] = 0\n",
    "    diff[1] = k\n",
    "\n",
    "    for i in range(2, n + 1):\n",
    "        same[i] = diff[i - 1]\n",
    "        diff[i] = (same[i - 1] + diff[i - 1]) * (k - 1)\n",
    "\n",
    "    return same[n] + diff[n]\n",
    "\n",
    "# Input\n",
    "data = '''\n",
    "10\n",
    "3\n",
    "\n",
    "'''.strip().split('\\n')\n",
    "n = int(data[0].strip())\n",
    "k = int(data[1].strip())\n",
    "\n",
    "# Output\n",
    "print(countWays(n, k))\n"
   ]
  },
  {
   "cell_type": "code",
   "execution_count": 1,
   "metadata": {},
   "outputs": [
    {
     "name": "stdout",
     "output_type": "stream",
     "text": [
      "A method\n"
     ]
    }
   ],
   "source": [
    "class A:\n",
    "    def method(self):\n",
    "        print(\"A method\")\n",
    "class X(A):\n",
    "    pass\n",
    "class Y:\n",
    "    def method(self):\n",
    "        print(\"Y method\")\n",
    "class Z(X, Y):\n",
    "    pass\n",
    "obj = Z()\n",
    "obj.method()"
   ]
  }
 ],
 "metadata": {
  "kernelspec": {
   "display_name": "Python 3",
   "language": "python",
   "name": "python3"
  },
  "language_info": {
   "codemirror_mode": {
    "name": "ipython",
    "version": 3
   },
   "file_extension": ".py",
   "mimetype": "text/x-python",
   "name": "python",
   "nbconvert_exporter": "python",
   "pygments_lexer": "ipython3",
   "version": "3.12.1"
  }
 },
 "nbformat": 4,
 "nbformat_minor": 2
}
