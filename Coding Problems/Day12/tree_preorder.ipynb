{
 "cells": [
  {
   "cell_type": "code",
   "execution_count": 11,
   "metadata": {},
   "outputs": [
    {
     "name": "stdout",
     "output_type": "stream",
     "text": [
      "25\n",
      "20\n",
      "15 30\n",
      "10 22 28 35\n",
      "21\n"
     ]
    }
   ],
   "source": [
    "from collections import deque\n",
    "\n",
    "class TreeNode:\n",
    "    def __init__(self, value=0, left=None, right=None):\n",
    "        self.value = value\n",
    "        self.left = left\n",
    "        self.right = right\n",
    "\n",
    "def build_tree(values):\n",
    "    if not values:\n",
    "        return None\n",
    "\n",
    "    def build_tree_helper(index):\n",
    "        if index >= len(values) or values[index] == 'false':\n",
    "            return None, index\n",
    "\n",
    "        node = TreeNode(int(values[index]))\n",
    "        index += 1\n",
    "\n",
    "        if index < len(values) and values[index] == 'true':\n",
    "            node.left, index = build_tree_helper(index + 1)\n",
    "        else:\n",
    "            index += 1\n",
    "\n",
    "        if index < len(values) and values[index] == 'true':\n",
    "            node.right, index = build_tree_helper(index + 1)\n",
    "        else:\n",
    "            index += 1\n",
    "\n",
    "        return node, index\n",
    "\n",
    "    root, _ = build_tree_helper(0)\n",
    "    return root\n",
    "\n",
    "def level_order_traversal(root):\n",
    "    if not root:\n",
    "        return []\n",
    "\n",
    "    result = []\n",
    "    queue = deque([root])\n",
    "\n",
    "    while queue:\n",
    "        level_size = len(queue)\n",
    "        level_nodes = []\n",
    "\n",
    "        for _ in range(level_size):\n",
    "            node = queue.popleft()\n",
    "            level_nodes.append(node.value)\n",
    "            if node.left:\n",
    "                queue.append(node.left)\n",
    "            if node.right:\n",
    "                queue.append(node.right)\n",
    "\n",
    "        result.append(level_nodes)\n",
    "\n",
    "    return result\n",
    "\n",
    "if 1:\n",
    "    values = \"25 true 20 true 15 true 10 false false true 22 false true 21 false false true 30 true 28 false false true 35 false false\".split()\n",
    "    \n",
    "    root = build_tree(values)\n",
    "    levels = level_order_traversal(root)\n",
    "    \n",
    "    for level in levels:\n",
    "        print(\" \".join(map(str, level)))\n",
    "\n",
    "\n"
   ]
  }
 ],
 "metadata": {
  "kernelspec": {
   "display_name": "Python 3",
   "language": "python",
   "name": "python3"
  },
  "language_info": {
   "codemirror_mode": {
    "name": "ipython",
    "version": 3
   },
   "file_extension": ".py",
   "mimetype": "text/x-python",
   "name": "python",
   "nbconvert_exporter": "python",
   "pygments_lexer": "ipython3",
   "version": "3.12.1"
  }
 },
 "nbformat": 4,
 "nbformat_minor": 2
}
