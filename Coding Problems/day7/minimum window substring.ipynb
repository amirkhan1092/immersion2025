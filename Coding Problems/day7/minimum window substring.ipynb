{
 "cells": [
  {
   "cell_type": "code",
   "execution_count": 7,
   "metadata": {},
   "outputs": [
    {
     "data": {
      "text/plain": [
       "'AABBBC'"
      ]
     },
     "execution_count": 7,
     "metadata": {},
     "output_type": "execute_result"
    }
   ],
   "source": [
    "class Solution:\n",
    "    def minWindow(self, s, t) -> str:\n",
    "        if not s or not t:\n",
    "            return \"\"\n",
    "\n",
    "        dictT = {}\n",
    "        for c in t:\n",
    "            dictT[c] = dictT.get(c, 0) + 1\n",
    "\n",
    "        required = len(dictT)\n",
    "        l, r = 0, 0\n",
    "        formed = 0\n",
    "\n",
    "        windowCounts = {}\n",
    "        ans = [-1, 0, 0]\n",
    "\n",
    "        while r < len(s):\n",
    "            c = s[r]\n",
    "            windowCounts[c] = windowCounts.get(c, 0) + 1\n",
    "\n",
    "            if c in dictT and windowCounts[c] == dictT[c]:\n",
    "                formed += 1\n",
    "\n",
    "            while l <= r and formed == required:\n",
    "                c = s[l]\n",
    "\n",
    "                if ans[0] == -1 or r - l + 1 < ans[0]:\n",
    "                    ans[0] = r - l + 1\n",
    "                    ans[1] = l\n",
    "                    ans[2] = r\n",
    "\n",
    "                windowCounts[c] -= 1\n",
    "                if c in dictT and windowCounts[c] < dictT[c]:\n",
    "                    formed -= 1\n",
    "\n",
    "                l += 1\n",
    "\n",
    "            r += 1\n",
    "\n",
    "        return \"\" if ans[0] == -1 else s[ans[1]: ans[2] + 1]\n",
    "    \n",
    "obj = Solution()\n",
    "data = '''\n",
    "AAABBBCCC \n",
    "ABCA\n",
    "'''.strip().split()\n",
    "s, t = data\n",
    "obj.minWindow(s, t)\n"
   ]
  }
 ],
 "metadata": {
  "kernelspec": {
   "display_name": "Python 3",
   "language": "python",
   "name": "python3"
  },
  "language_info": {
   "codemirror_mode": {
    "name": "ipython",
    "version": 3
   },
   "file_extension": ".py",
   "mimetype": "text/x-python",
   "name": "python",
   "nbconvert_exporter": "python",
   "pygments_lexer": "ipython3",
   "version": "3.12.1"
  }
 },
 "nbformat": 4,
 "nbformat_minor": 2
}
