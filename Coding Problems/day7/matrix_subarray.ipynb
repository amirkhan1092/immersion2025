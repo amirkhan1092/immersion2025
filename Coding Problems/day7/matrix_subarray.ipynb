{
 "cells": [
  {
   "cell_type": "code",
   "execution_count": 1,
   "metadata": {},
   "outputs": [
    {
     "name": "stdout",
     "output_type": "stream",
     "text": [
      "7\n"
     ]
    }
   ],
   "source": [
    "def max_sum_subarray_1d(arr):\n",
    "    max_sum = current_sum = arr[0]\n",
    "    for num in arr[1:]:\n",
    "        current_sum = max(num, current_sum + num)\n",
    "        max_sum = max(max_sum, current_sum)\n",
    "    # print(max_sum)    \n",
    "    return max_sum\n",
    "\n",
    "def max_sum_subarray_2d(matrix):\n",
    "    n = len(matrix)\n",
    "    m = len(matrix[0])\n",
    "    max_sum = -float('inf')\n",
    "    \n",
    "    for left in range(m):\n",
    "        temp = [0] * n\n",
    "        for right in range(left, m):\n",
    "            for i in range(n):\n",
    "                temp[i] += matrix[i][right]\n",
    "            max_sum = max(max_sum, max_sum_subarray_1d(temp))\n",
    "    \n",
    "    return max_sum\n",
    "\n",
    "# Example Usage\n",
    "data = '''\n",
    "3 3 \n",
    "1 2 -1 \n",
    "-3 4 2 \n",
    "-1 -2 1\n",
    "'''.strip().split('\\n')\n",
    "# print(data)\n",
    "n, m = map(int, data[0].split())\n",
    "matrix = [list(map(int, data[_].split())) for _ in range(1, n)]\n",
    "print(max_sum_subarray_2d(matrix))\n"
   ]
  }
 ],
 "metadata": {
  "kernelspec": {
   "display_name": "Python 3",
   "language": "python",
   "name": "python3"
  },
  "language_info": {
   "codemirror_mode": {
    "name": "ipython",
    "version": 3
   },
   "file_extension": ".py",
   "mimetype": "text/x-python",
   "name": "python",
   "nbconvert_exporter": "python",
   "pygments_lexer": "ipython3",
   "version": "3.12.1"
  }
 },
 "nbformat": 4,
 "nbformat_minor": 2
}
