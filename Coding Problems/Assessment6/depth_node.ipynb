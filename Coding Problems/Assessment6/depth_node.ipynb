{
 "cells": [
  {
   "cell_type": "code",
   "execution_count": 4,
   "metadata": {},
   "outputs": [
    {
     "name": "stdout",
     "output_type": "stream",
     "text": [
      "5\n"
     ]
    }
   ],
   "source": [
    "class TreeNode:\n",
    "    def __init__(self, val=0, left=None, right=None):\n",
    "        self.val = val\n",
    "        self.left = left\n",
    "        self.right = right\n",
    "\n",
    "def maxDepth(root: TreeNode) -> int:\n",
    "    if not root:\n",
    "        return 0\n",
    "    left_depth = maxDepth(root.left)\n",
    "    right_depth = maxDepth(root.right)\n",
    "    return max(left_depth, right_depth) + 1\n",
    "\n",
    "def build_tree(values):\n",
    "    if not values:\n",
    "        return None\n",
    "    root = TreeNode(values[0])\n",
    "    queue = [root]\n",
    "    i = 1\n",
    "    while queue and i < len(values):\n",
    "        node = queue.pop(0)\n",
    "        if values[i] is not None:\n",
    "            node.left = TreeNode(values[i])\n",
    "            queue.append(node.left)\n",
    "        i += 1\n",
    "        if i < len(values) and values[i] is not None:\n",
    "            node.right = TreeNode(values[i])\n",
    "            queue.append(node.right)\n",
    "        i += 1\n",
    "    return root\n",
    "\n",
    "# Example Usage\n",
    "data = '''\n",
    "18 \n",
    "1 2 3 4 5 6 7 8 9 10 11 12 13 14 15 16 17 18\n",
    "'''.strip().split('\\n')\n",
    "n = int(data[0].strip())\n",
    "values = [int(x) if x != 'null' else None for x in data[1].strip().split()]\n",
    "root = build_tree(values)\n",
    "print(maxDepth(root))\n"
   ]
  }
 ],
 "metadata": {
  "kernelspec": {
   "display_name": "Python 3",
   "language": "python",
   "name": "python3"
  },
  "language_info": {
   "codemirror_mode": {
    "name": "ipython",
    "version": 3
   },
   "file_extension": ".py",
   "mimetype": "text/x-python",
   "name": "python",
   "nbconvert_exporter": "python",
   "pygments_lexer": "ipython3",
   "version": "3.12.1"
  }
 },
 "nbformat": 4,
 "nbformat_minor": 2
}
