{
 "cells": [
  {
   "cell_type": "code",
   "execution_count": 17,
   "metadata": {},
   "outputs": [
    {
     "name": "stdout",
     "output_type": "stream",
     "text": [
      "[('x', 'y'), ('x', 'm'), ('x', 'n'), ('y', 'm')]\n"
     ]
    }
   ],
   "source": [
    "from collections import defaultdict\n",
    "from itertools import combinations\n",
    "\n",
    "def jaccard_similarity(set1, set2):\n",
    "    intersection = len(set1 & set2)\n",
    "    union = len(set1 | set2)\n",
    "    return intersection / union\n",
    "\n",
    "def top_k_similar_websites(k, visits):\n",
    "    # Build a dictionary where the key is the website and the value is a set of users\n",
    "    website_users = defaultdict(set)\n",
    "    for website, user in visits:\n",
    "        website_users[website].add(user)\n",
    "    \n",
    "    # Calculate similarity for all pairs of websites\n",
    "    similarities = []\n",
    "    websites = list(website_users.keys())\n",
    "    for w1, w2 in combinations(websites, 2):\n",
    "        sim = jaccard_similarity(website_users[w1], website_users[w2])\n",
    "        similarities.append((sim, w1, w2))\n",
    "    \n",
    "    # Sort the similarities in descending order and return the top k pairs\n",
    "    similarities.sort(reverse=True, key=lambda x: x[0])\n",
    "    return [(w1, w2) for _, w1, w2 in similarities[:k]]\n",
    "\n",
    "# Input reading\n",
    "data = '''\n",
    "4\n",
    "14\n",
    "x 1\n",
    "x 2\n",
    "x 3\n",
    "y 2\n",
    "y 3\n",
    "y 4\n",
    "y 3\n",
    "z 4\n",
    "z 5\n",
    "z 10\n",
    "m 2\n",
    "m 5\n",
    "n 6\n",
    "n 1\n",
    "\n",
    "'''.strip().split('\\n')\n",
    "k = int(data[0])\n",
    "n = int(data[1])\n",
    "visits = []\n",
    "for _ in range(2, n+2):\n",
    "    website, user = data[_].split()\n",
    "    visits.append((website, int(user)))\n",
    "\n",
    "# Output\n",
    "result = top_k_similar_websites(k, visits)\n",
    "print(result)\n"
   ]
  }
 ],
 "metadata": {
  "kernelspec": {
   "display_name": "Python 3",
   "language": "python",
   "name": "python3"
  },
  "language_info": {
   "codemirror_mode": {
    "name": "ipython",
    "version": 3
   },
   "file_extension": ".py",
   "mimetype": "text/x-python",
   "name": "python",
   "nbconvert_exporter": "python",
   "pygments_lexer": "ipython3",
   "version": "3.12.1"
  }
 },
 "nbformat": 4,
 "nbformat_minor": 2
}
