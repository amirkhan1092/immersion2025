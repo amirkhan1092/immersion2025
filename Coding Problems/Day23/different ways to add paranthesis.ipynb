{
 "cells": [
  {
   "cell_type": "code",
   "execution_count": 7,
   "metadata": {},
   "outputs": [
    {
     "name": "stdout",
     "output_type": "stream",
     "text": [
      "[-22, -14, -2, 6]\n"
     ]
    }
   ],
   "source": [
    "def diffWaysToCompute(expression):\n",
    "    memo = {}\n",
    "    \n",
    "    def ways(expression):\n",
    "        if expression in memo:\n",
    "            return memo[expression]\n",
    "        \n",
    "        if expression.isdigit():\n",
    "            return {int(expression)}\n",
    "        \n",
    "        res = set()\n",
    "        for i in range(len(expression)):\n",
    "            if expression[i] in \"+-*\":\n",
    "                left = ways(expression[:i])\n",
    "                right = ways(expression[i+1:])\n",
    "                \n",
    "                for l in left:\n",
    "                    for r in right:\n",
    "                        if expression[i] == '+':\n",
    "                            res.add(l + r)\n",
    "                        elif expression[i] == '-':\n",
    "                            res.add(l - r)\n",
    "                        elif expression[i] == '*':\n",
    "                            res.add(l * r)\n",
    "        \n",
    "        memo[expression] = res\n",
    "        return res\n",
    "    \n",
    "    return sorted(ways(expression))\n",
    "\n",
    "# Reading input\n",
    "expression = \"2-10-4+10\"\n",
    "\n",
    "# Computing the results\n",
    "results = diffWaysToCompute(expression)\n",
    "\n",
    "# Printing output\n",
    "print(results)\n"
   ]
  }
 ],
 "metadata": {
  "kernelspec": {
   "display_name": "Python 3",
   "language": "python",
   "name": "python3"
  },
  "language_info": {
   "codemirror_mode": {
    "name": "ipython",
    "version": 3
   },
   "file_extension": ".py",
   "mimetype": "text/x-python",
   "name": "python",
   "nbconvert_exporter": "python",
   "pygments_lexer": "ipython3",
   "version": "3.12.1"
  }
 },
 "nbformat": 4,
 "nbformat_minor": 2
}
