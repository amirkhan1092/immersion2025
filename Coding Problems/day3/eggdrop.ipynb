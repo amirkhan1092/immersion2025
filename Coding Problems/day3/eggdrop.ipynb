{
 "cells": [
  {
   "cell_type": "code",
   "execution_count": 7,
   "metadata": {},
   "outputs": [
    {
     "name": "stdout",
     "output_type": "stream",
     "text": [
      "2 10\n",
      "1 2\n",
      "4 5\n",
      "6 7\n",
      "10 12\n",
      "45 60\n",
      "23 40\n",
      "\n",
      "\n",
      "4\n",
      "2\n",
      "3\n",
      "3\n",
      "4\n",
      "6\n",
      "6\n"
     ]
    }
   ],
   "source": [
    "def superEggDrop(k, n):\n",
    "    # Initialize DP table with (n+1) moves and (k+1) eggs\n",
    "    dp = [[0] * (k + 1) for _ in range(n + 1)]\n",
    "\n",
    "    # Minimum moves needed\n",
    "    moves = 0\n",
    "\n",
    "    # Keep increasing moves until we can check all floors\n",
    "    while dp[moves][k] < n:\n",
    "        moves += 1\n",
    "        for eggs in range(1, k + 1):\n",
    "            dp[moves][eggs] = 1 + dp[moves - 1][eggs - 1] + dp[moves - 1][eggs]\n",
    "\n",
    "    return moves\n",
    "data = list(zip([2, 1, 4, 6, 10, 45, 23],[10, 2, 5, 7, 12, 60, 40]))\n",
    "for  k, n in data:\n",
    "        print(k, n)\n",
    "\n",
    "print('\\n')\n",
    "for  k, n in data: \n",
    "        print(superEggDrop(k, n))  # Output: 2"
   ]
  }
 ],
 "metadata": {
  "kernelspec": {
   "display_name": "Python 3",
   "language": "python",
   "name": "python3"
  },
  "language_info": {
   "codemirror_mode": {
    "name": "ipython",
    "version": 3
   },
   "file_extension": ".py",
   "mimetype": "text/x-python",
   "name": "python",
   "nbconvert_exporter": "python",
   "pygments_lexer": "ipython3",
   "version": "3.12.1"
  }
 },
 "nbformat": 4,
 "nbformat_minor": 2
}
