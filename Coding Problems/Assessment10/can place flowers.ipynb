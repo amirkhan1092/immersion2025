{
 "cells": [
  {
   "cell_type": "code",
   "execution_count": 11,
   "metadata": {},
   "outputs": [
    {
     "name": "stdout",
     "output_type": "stream",
     "text": [
      "False\n"
     ]
    }
   ],
   "source": [
    "class Solution:\n",
    "    def canPlaceFlowers(self, flowerbed, n):\n",
    "        count = 0\n",
    "        for i in range(len(flowerbed)):\n",
    "            # Check if the current plot is empty.\n",
    "            if flowerbed[i] == 0:\n",
    "                # Check if the left and right plots are empty.\n",
    "                empty_left_plot = (i == 0) or (flowerbed[i - 1] == 0)\n",
    "                empty_right_lot = (i == len(flowerbed) - 1) or (flowerbed[i + 1] == 0)\n",
    "                \n",
    "                # If both plots are empty, we can plant a flower here.\n",
    "                if empty_left_plot and empty_right_lot:\n",
    "                    flowerbed[i] = 1\n",
    "                    count += 1\n",
    "                    \n",
    "        return count >= n\n",
    "    \n",
    "obj = Solution()\n",
    "data = '''\n",
    "7\n",
    "1 0 0 0 1 0 1\n",
    "2\n",
    "\n",
    "\n",
    "\n",
    "'''.strip().split('\\n')\n",
    "lst = list(map(int, data[1].split()))\n",
    "n = int(data[2])\n",
    "print(obj.canPlaceFlowers(lst, n))"
   ]
  }
 ],
 "metadata": {
  "kernelspec": {
   "display_name": "Python 3",
   "language": "python",
   "name": "python3"
  },
  "language_info": {
   "codemirror_mode": {
    "name": "ipython",
    "version": 3
   },
   "file_extension": ".py",
   "mimetype": "text/x-python",
   "name": "python",
   "nbconvert_exporter": "python",
   "pygments_lexer": "ipython3",
   "version": "3.12.1"
  }
 },
 "nbformat": 4,
 "nbformat_minor": 2
}
