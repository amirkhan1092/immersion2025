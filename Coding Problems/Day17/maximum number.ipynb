{
 "cells": [
  {
   "cell_type": "code",
   "execution_count": 5,
   "metadata": {},
   "outputs": [
    {
     "name": "stdout",
     "output_type": "stream",
     "text": [
      "514556245\n"
     ]
    }
   ],
   "source": [
    "def maximize_score(number: str, digit: str) -> str:\n",
    "    max_score = \"\"\n",
    "    \n",
    "    for i in range(len(number)):\n",
    "        if number[i] == digit:\n",
    "            new_score = number[:i] + number[i+1:]\n",
    "            if new_score > max_score:\n",
    "                max_score = new_score\n",
    "    \n",
    "    return max_score\n",
    "\n",
    "# Example usage\n",
    "data = '''\n",
    "5144556245\n",
    "4\n",
    "\n",
    "'''.strip().split('\\n')\n",
    "number, digit = data\n",
    "print(maximize_score(number, digit))  # Output: 1432938\n"
   ]
  },
  {
   "cell_type": "code",
   "execution_count": null,
   "metadata": {},
   "outputs": [],
   "source": [
    "1423938\n",
    "1432938\n",
    "1432398"
   ]
  }
 ],
 "metadata": {
  "kernelspec": {
   "display_name": "Python 3",
   "language": "python",
   "name": "python3"
  },
  "language_info": {
   "codemirror_mode": {
    "name": "ipython",
    "version": 3
   },
   "file_extension": ".py",
   "mimetype": "text/x-python",
   "name": "python",
   "nbconvert_exporter": "python",
   "pygments_lexer": "ipython3",
   "version": "3.12.1"
  }
 },
 "nbformat": 4,
 "nbformat_minor": 2
}
