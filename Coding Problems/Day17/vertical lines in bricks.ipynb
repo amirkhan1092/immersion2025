{
 "cells": [
  {
   "cell_type": "code",
   "execution_count": 9,
   "metadata": {},
   "outputs": [
    {
     "name": "stdout",
     "output_type": "stream",
     "text": [
      "[[1, 2, 2, 1], [2, 3, 2], [1, 2, 1, 1], [2, 4], [3, 1, 1, 2], [1, 1, 6]]\n",
      "3\n"
     ]
    }
   ],
   "source": [
    "def fewest_bricks_to_cut(wall):\n",
    "    from collections import defaultdict\n",
    "    \n",
    "    edge_count = defaultdict(int)\n",
    "    \n",
    "    # Calculate prefix sums for each row, except the last brick in each row\n",
    "    for row in wall:\n",
    "        prefix_sum = 0\n",
    "        for brick in row[:-1]:\n",
    "            prefix_sum += brick\n",
    "            edge_count[prefix_sum] += 1\n",
    "    \n",
    "    # Find the position with the maximum number of edges\n",
    "    max_edges = max(edge_count.values(), default=0)\n",
    "    \n",
    "    # The minimum cuts will be the total number of rows minus the max_edges\n",
    "    return len(wall) - max_edges\n",
    "\n",
    "# Test the function with the given example\n",
    "if __name__ == \"__main__\":\n",
    "    data = '''\n",
    "6\n",
    "4 1 2 2 1\n",
    "4 2 3 2\n",
    "4 1 2 1 1\n",
    "2 2 4\n",
    "4 3 1 1 2\n",
    "3 1 1 6\n",
    "\n",
    "\n",
    "'''.strip().split('\\n')\n",
    "\n",
    "    \n",
    "    N = int(data[0])\n",
    "    wall = []\n",
    "    for i in range(1, N+1):\n",
    "        wall.append(list(map(int, data[i].split()))[1:])\n",
    "    print(wall)\n",
    "    print(fewest_bricks_to_cut(wall))\n"
   ]
  }
 ],
 "metadata": {
  "kernelspec": {
   "display_name": "Python 3",
   "language": "python",
   "name": "python3"
  },
  "language_info": {
   "codemirror_mode": {
    "name": "ipython",
    "version": 3
   },
   "file_extension": ".py",
   "mimetype": "text/x-python",
   "name": "python",
   "nbconvert_exporter": "python",
   "pygments_lexer": "ipython3",
   "version": "3.12.1"
  }
 },
 "nbformat": 4,
 "nbformat_minor": 2
}
