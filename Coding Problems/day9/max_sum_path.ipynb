{
 "cells": [
  {
   "cell_type": "code",
   "execution_count": 14,
   "metadata": {},
   "outputs": [
    {
     "name": "stdout",
     "output_type": "stream",
     "text": [
      "30\n"
     ]
    }
   ],
   "source": [
    "class TreeNode:\n",
    "    def __init__(self, value):\n",
    "        self.value = value\n",
    "        self.left = None\n",
    "        self.right = None\n",
    "\n",
    "def build_tree(values):\n",
    "    if not values or values[0] == -1:\n",
    "        return None\n",
    "    \n",
    "    nodes = [None if val == -1 else TreeNode(val) for val in values]\n",
    "    kids = nodes[::-1]\n",
    "    root = kids.pop()\n",
    "    \n",
    "    for node in nodes:\n",
    "        if node:\n",
    "            if kids: node.left = kids.pop()\n",
    "            if kids: node.right = kids.pop()\n",
    "    \n",
    "    return root\n",
    "\n",
    "def max_path_sum(node):\n",
    "    def helper(node):\n",
    "        nonlocal max_sum\n",
    "        if not node:\n",
    "            return 0\n",
    "        \n",
    "        left_max = max(helper(node.left), 0)\n",
    "        right_max = max(helper(node.right), 0)\n",
    "        \n",
    "        current_max = node.value + left_max + right_max\n",
    "        max_sum = max(max_sum, current_max)\n",
    "        \n",
    "        return node.value + max(left_max, right_max)\n",
    "    \n",
    "    max_sum = float('-inf')\n",
    "    helper(node)\n",
    "    return max_sum\n",
    "\n",
    "if 1:\n",
    "    data = '''\n",
    "10 \n",
    "10 -2 7 8 -4 6 5 1\n",
    "'''.strip().split('\\n')\n",
    "    \n",
    "    n = int(data[0])\n",
    "    values = list(map(lambda x: int(x) if x != '-1' else -1, data[1].split()))\n",
    "    \n",
    "    root = build_tree(values)\n",
    "    result = max_path_sum(root)\n",
    "    print(result)\n",
    "\n",
    "\n"
   ]
  }
 ],
 "metadata": {
  "kernelspec": {
   "display_name": "Python 3",
   "language": "python",
   "name": "python3"
  },
  "language_info": {
   "codemirror_mode": {
    "name": "ipython",
    "version": 3
   },
   "file_extension": ".py",
   "mimetype": "text/x-python",
   "name": "python",
   "nbconvert_exporter": "python",
   "pygments_lexer": "ipython3",
   "version": "3.12.1"
  }
 },
 "nbformat": 4,
 "nbformat_minor": 2
}
