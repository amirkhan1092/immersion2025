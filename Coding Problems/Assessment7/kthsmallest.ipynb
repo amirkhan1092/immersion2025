{
 "cells": [
  {
   "cell_type": "code",
   "execution_count": 8,
   "metadata": {},
   "outputs": [
    {
     "name": "stdout",
     "output_type": "stream",
     "text": [
      "9\n"
     ]
    }
   ],
   "source": [
    "class TreeNode:\n",
    "    def __init__(self, value=0, left=None, right=None):\n",
    "        self.value = value\n",
    "        self.left = left\n",
    "        self.right = right\n",
    "\n",
    "def build_tree(values):\n",
    "    if not values:\n",
    "        return None\n",
    "\n",
    "    def build_tree_helper(index):\n",
    "        if index >= len(values) or values[index] == 'false':\n",
    "            return None, index\n",
    "\n",
    "        node = TreeNode(int(values[index]))\n",
    "        index += 1\n",
    "\n",
    "        if index < len(values) and values[index] == 'true':\n",
    "            node.left, index = build_tree_helper(index + 1)\n",
    "        else:\n",
    "            index += 1\n",
    "\n",
    "        if index < len(values) and values[index] == 'true':\n",
    "            node.right, index = build_tree_helper(index + 1)\n",
    "        else:\n",
    "            index += 1\n",
    "\n",
    "        return node, index\n",
    "\n",
    "    root, _ = build_tree_helper(0)\n",
    "    return root\n",
    "\n",
    "def kth_smallest(root, k):\n",
    "    def inorder_traversal(node):\n",
    "        if not node:\n",
    "            return []\n",
    "        return inorder_traversal(node.left) + [node.value] + inorder_traversal(node.right)\n",
    "    \n",
    "    inorder = inorder_traversal(root)\n",
    "    return inorder[k-1] if k-1 < len(inorder) else None\n",
    "\n",
    "if 1:\n",
    "    data = '''\n",
    "9 true 5 true 3 true 1 false false false true 7 true 6 false false true 8 false false true 12 true 11 false false true 14 true 13 false false\n",
    "7\n",
    "\n",
    "'''.strip().split('\\n')\n",
    "    \n",
    "    tree_data = data[0].split()\n",
    "    k = int(data[1])\n",
    "    \n",
    "    root = build_tree(tree_data)\n",
    "    print(kth_smallest(root, k))\n",
    "\n",
    "\n"
   ]
  }
 ],
 "metadata": {
  "kernelspec": {
   "display_name": "Python 3",
   "language": "python",
   "name": "python3"
  },
  "language_info": {
   "codemirror_mode": {
    "name": "ipython",
    "version": 3
   },
   "file_extension": ".py",
   "mimetype": "text/x-python",
   "name": "python",
   "nbconvert_exporter": "python",
   "pygments_lexer": "ipython3",
   "version": "3.12.1"
  }
 },
 "nbformat": 4,
 "nbformat_minor": 2
}
