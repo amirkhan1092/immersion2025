{
 "cells": [
  {
   "cell_type": "code",
   "execution_count": 1,
   "metadata": {},
   "outputs": [
    {
     "name": "stdout",
     "output_type": "stream",
     "text": [
      "2\n",
      "3\n",
      "4\n"
     ]
    }
   ],
   "source": [
    "def superEggDrop(k, n):\n",
    "    # Initialize DP table with (n+1) moves and (k+1) eggs\n",
    "    dp = [[0] * (k + 1) for _ in range(n + 1)]\n",
    "\n",
    "    # Minimum moves needed\n",
    "    moves = 0\n",
    "\n",
    "    # Keep increasing moves until we can check all floors\n",
    "    while dp[moves][k] < n:\n",
    "        moves += 1\n",
    "        for eggs in range(1, k + 1):\n",
    "            dp[moves][eggs] = 1 + dp[moves - 1][eggs - 1] + dp[moves - 1][eggs]\n",
    "\n",
    "    return moves\n",
    "\n",
    "# Example test cases\n",
    "print(superEggDrop(1, 2))  # Output: 2\n",
    "print(superEggDrop(2, 6))  # Output: 3\n",
    "print(superEggDrop(3, 14)) # Output: 4"
   ]
  }
 ],
 "metadata": {
  "kernelspec": {
   "display_name": "Python 3",
   "language": "python",
   "name": "python3"
  },
  "language_info": {
   "codemirror_mode": {
    "name": "ipython",
    "version": 3
   },
   "file_extension": ".py",
   "mimetype": "text/x-python",
   "name": "python",
   "nbconvert_exporter": "python",
   "pygments_lexer": "ipython3",
   "version": "3.12.1"
  }
 },
 "nbformat": 4,
 "nbformat_minor": 2
}
